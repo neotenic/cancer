{
 "metadata": {
  "name": "",
  "signature": "sha256:d62e13aeafede58171f3d5ea11d0c30b0c8cded3a6b6bfd29a42d9d8484c9369"
 },
 "nbformat": 3,
 "nbformat_minor": 0,
 "worksheets": [
  {
   "cells": [
    {
     "cell_type": "code",
     "collapsed": false,
     "input": [
      "import pymongo\n",
      "from pymongo import MongoClient\n",
      "client = MongoClient('mongodb://localhost:27017/')\n",
      "db = client['cancer']\n",
      "co = client['composite']"
     ],
     "language": "python",
     "metadata": {},
     "outputs": [],
     "prompt_number": 63
    },
    {
     "cell_type": "code",
     "collapsed": false,
     "input": [
      "from nltk.corpus import stopwords\n",
      "from nltk import stem, tokenize\n",
      "snowball = stem.snowball.EnglishStemmer()\n",
      "tokenizer = tokenize.RegexpTokenizer(r'\\w+')\n",
      "stahp = set(stopwords.words(\"english\") + u'accept name another use used include including includes title wrote first also known begin prompt man woman person neg ftp points point one two three four five six seven eight nine ten 1 2 3 4 5 6 7 8 9 10 n t y mention anything basic achieve group main time tell'.split(\" \"))\n",
      "def wordcount(text):\n",
      "    return len(set(tokenizer.tokenize(text.lower())) - set(stopwords.words('english')))"
     ],
     "language": "python",
     "metadata": {},
     "outputs": [],
     "prompt_number": 9
    },
    {
     "cell_type": "code",
     "collapsed": false,
     "input": [
      "import re\n",
      "lengths = []\n",
      "for p in db.packets.find({\"questions\": {\"$ne\": None}}).skip(0):\n",
      "    for q in p['questions']:\n",
      "        text = q['question']\n",
      "        ans = q['answer']\n",
      "        if len(text) < 2000:\n",
      "            lengths.append(len(text))\n"
     ],
     "language": "python",
     "metadata": {},
     "outputs": [],
     "prompt_number": 2
    },
    {
     "cell_type": "code",
     "collapsed": false,
     "input": [
      "from pylab import *\n",
      "%matplotlib inline"
     ],
     "language": "python",
     "metadata": {},
     "outputs": [],
     "prompt_number": 7
    },
    {
     "cell_type": "code",
     "collapsed": false,
     "input": [
      "import re\n",
      "lengths = []\n",
      "# for p in db.packets.find({\"questions\": {\"$ne\": None}}).skip(0):\n",
      "#     tournament = db.tournaments.find_one({'_id': p['tournament']})\n",
      "#     for q in p['questions']:\n",
      "#         text = q['question'].strip()\n",
      "#         ans = q['answer']\n",
      "#         if re.match(r'(\\d+\\) )?(\\[10\\]|\\((10|5)\\)|[A-F]\\.|\\(?1\\d point)', text) == None and re.search(r\"\\[10\\]|FTPE|FTP each|\\((10|5)\\)|points each|\\(10 points\\)|ANSWER|Ans:\", text) == None and len(text) > 1900:\n",
      "# #             print tournament['name'], len(text), text\n",
      "#             lengths.append(len(text))\n",
      "num = 0\n",
      "def pr(x):\n",
      "    global num\n",
      "    num += 1\n",
      "    if num < 100:\n",
      "        print x,\"\\n\"\n",
      "\n",
      "mcgoats = 0\n",
      "for tournament in db.tournaments.find():\n",
      "    tname = re.sub(r\"^\\d{4}(\\-\\d{4})?\", \"\", tournament['name']).strip()\n",
      "    count = co.q.find({\"tournament\": tname, \"year\": tournament['year']}).count()\n",
      "    print count, tname, tournament['year']\n",
      "    if count > 0:\n",
      "        continue\n",
      "        \n",
      "    megapool = []\n",
      "    packetcount = 0\n",
      "    for p in db.packets.find({\"tournament\": tournament['_id'], \"questions\": {\"$ne\": None}}):\n",
      "        pristine = 0\n",
      "        packetcount += 1\n",
      "        pool = []\n",
      "        for q in p['questions']:\n",
      "            text = q['question'].strip()\n",
      "            ans = q['answer']\n",
      "#             re.search(r\"(A|B|C)\\.\\s\", text[:20]) == None\n",
      "            if re.search(r\"\\[10\\]|FTPE|FTP each|\\(5\\)|points each|ANSWER|Ans:|5 points per\", text) == None and len(text) < 1900:\n",
      "                if len(text) > 300:\n",
      "                    lengths.append(len(text))\n",
      "                    pool.append(text)\n",
      "#                     pr(text)\n",
      "#                     pr(text)\n",
      "                    pristine += 1\n",
      "#                 if len(text) < 300:\n",
      "#                     pr(text)\n",
      "#         print pristine, len(p['questions'])\n",
      "#         lengths.append(pristine)\n",
      "#         if pristine == 0 and len(p['questions']) > 70:\n",
      "#             pr(p['questions'][0]['question'])\n",
      "        if pristine > 15:\n",
      "            megapool.extend(pool)\n",
      "#         , re.compile(r\"^(\\d{4})\").match(tournament['name']).group(1)\n",
      "\n",
      "#     foundcount = 0\n",
      "    if len(megapool) > 40:\n",
      "#         megex = '|'.join([regexify(text) for text in random.sample(megapool, 5)])\n",
      "#         foundcount = co.q.find({\"question\": {\"$regex\": megex, \"$options\": \"i\" }}).count()\n",
      "    #         if co.q.find({\"question\": {\"$regex\": , \"$options\": \"i\" }}).count() > 0:\n",
      "    #             foundcount += 1\n",
      "        foundcount = 0\n",
      "        for text in random.sample(megapool, 10):\n",
      "            foundcount += co.q.find({\"question\": {\"$regex\": regexify(text), \"$options\": \"i\" }}).count()\n",
      "        if foundcount < 2:\n",
      "            mcgoats += len(megapool)\n",
      "        print \"\\t\", foundcount, \"found\", mcgoats\n",
      "    else:\n",
      "        print \"\\t~\", len(megapool), packetcount\n",
      "\n",
      "        \n",
      "                "
     ],
     "language": "python",
     "metadata": {},
     "outputs": [
      {
       "output_type": "stream",
       "stream": "stdout",
       "text": [
        "0 Gorilla Lit 2014\n",
        "\t"
       ]
      },
      {
       "output_type": "stream",
       "stream": "stdout",
       "text": [
        "0 found 192\n",
        "0 SCOP 3 2012\n",
        "\t"
       ]
      },
      {
       "output_type": "stream",
       "stream": "stdout",
       "text": [
        "0 found 395\n",
        "0 BARGE 2012\n",
        "\t"
       ]
      },
      {
       "output_type": "stream",
       "stream": "stdout",
       "text": [
        "0 found 641\n",
        "0 Chicago Open 2006\n",
        "\t"
       ]
      },
      {
       "output_type": "stream",
       "stream": "stdout",
       "text": [
        "0 found 969\n",
        "0 Maryland Ad Hoc 1995\n",
        "\t~"
       ]
      },
      {
       "output_type": "stream",
       "stream": "stdout",
       "text": [
        " 0 0\n",
        "0 Masonic Sectionals 2013\n",
        "\t~"
       ]
      },
      {
       "output_type": "stream",
       "stream": "stdout",
       "text": [
        " 0 0\n",
        "351 ACF Regionals 2011\n",
        "0"
       ]
      },
      {
       "output_type": "stream",
       "stream": "stdout",
       "text": [
        " SASS 2013\n",
        "\t"
       ]
      },
      {
       "output_type": "stream",
       "stream": "stdout",
       "text": [
        "0 found 1106\n",
        "0 Tricontakaipentagon 2.5 2013\n",
        "\t"
       ]
      },
      {
       "output_type": "stream",
       "stream": "stdout",
       "text": [
        "0 found 1387\n",
        "0 Chipola Lit/Fine Arts Singles 2010\n",
        "\t"
       ]
      },
      {
       "output_type": "stream",
       "stream": "stdout",
       "text": [
        "10 found 1387\n",
        "0 Jean-Baptiste Lully Memorial Fine Arts 2010\n",
        "\t"
       ]
      },
      {
       "output_type": "stream",
       "stream": "stdout",
       "text": [
        "9 found 1387\n",
        "0 Independent Buzzer Association 500 Questions volume I 1990\n",
        "\t~"
       ]
      },
      {
       "output_type": "stream",
       "stream": "stdout",
       "text": [
        " 0 0\n",
        "0 Chicago \"Sack of Antwerp\" 2011\n",
        "\t"
       ]
      },
      {
       "output_type": "stream",
       "stream": "stdout",
       "text": [
        "6 found 1387\n",
        "0 Peaceful Resolution 2012\n",
        "\t"
       ]
      },
      {
       "output_type": "stream",
       "stream": "stdout",
       "text": [
        "0 found 1685\n",
        "0 Princeton Buzzerfest IX 2010\n",
        "\t"
       ]
      },
      {
       "output_type": "stream",
       "stream": "stdout",
       "text": [
        "8 found 1685\n",
        "336 ACF Regionals 2010\n",
        "0"
       ]
      },
      {
       "output_type": "stream",
       "stream": "stdout",
       "text": [
        " The Questions Concerning Technology 2012\n",
        "\t"
       ]
      },
      {
       "output_type": "stream",
       "stream": "stdout",
       "text": [
        "0 found 1873\n",
        "0 Tyrone Slothrop Lit 2009\n",
        "\t"
       ]
      },
      {
       "output_type": "stream",
       "stream": "stdout",
       "text": [
        "0 found 2111\n",
        "0 Maryland Fall Classic 2007\n",
        "\t~"
       ]
      },
      {
       "output_type": "stream",
       "stream": "stdout",
       "text": [
        " 0 12\n",
        "0 Ben Cooper 2010\n",
        "\t"
       ]
      },
      {
       "output_type": "stream",
       "stream": "stdout",
       "text": [
        "10 found 2111\n",
        "0 New Trier Scobol Solo 2009\n",
        "\t"
       ]
      },
      {
       "output_type": "stream",
       "stream": "stdout",
       "text": [
        "0 found 2404\n",
        "0 Wash U Gateway Invitational 1994\n",
        "\t~"
       ]
      },
      {
       "output_type": "stream",
       "stream": "stdout",
       "text": [
        " 0 0\n",
        "0 Illinois Where Is Salman Rushdie 1991\n",
        "\t~"
       ]
      },
      {
       "output_type": "stream",
       "stream": "stdout",
       "text": [
        " 0 0\n",
        "0 Illinois Dr Seuss Cindy Lou Who 1994\n",
        "\t~"
       ]
      },
      {
       "output_type": "stream",
       "stream": "stdout",
       "text": [
        " 0 0\n",
        "0 Maggie Walker GSAC XVI 2008\n",
        "\t"
       ]
      },
      {
       "output_type": "stream",
       "stream": "stdout",
       "text": [
        "0 found 2611\n",
        "352 ACF Nationals 2001\n",
        "0"
       ]
      },
      {
       "output_type": "stream",
       "stream": "stdout",
       "text": [
        " BATE 2010\n",
        "\t"
       ]
      },
      {
       "output_type": "stream",
       "stream": "stdout",
       "text": [
        "0 found 2886\n",
        "0 Toby Keith Hybrid 2005\n",
        "\t"
       ]
      },
      {
       "output_type": "stream",
       "stream": "stdout",
       "text": [
        "0 found 3346\n",
        "0 Crusader Cup 2007\n",
        "\t~"
       ]
      },
      {
       "output_type": "stream",
       "stream": "stdout",
       "text": [
        " 0 0\n",
        "0 Spring Offensive (history tournament) 2010\n",
        "\t"
       ]
      },
      {
       "output_type": "stream",
       "stream": "stdout",
       "text": [
        "0 found 3547\n",
        "0 YMIR 2012\n",
        "\t"
       ]
      },
      {
       "output_type": "stream",
       "stream": "stdout",
       "text": [
        "0 found 3711\n",
        "0 IMSANITY 4 2013\n",
        "\t"
       ]
      },
      {
       "output_type": "stream",
       "stream": "stdout",
       "text": [
        "0 found 3987\n",
        "0 Toby Keith Hybrid 2006\n",
        "\t"
       ]
      },
      {
       "output_type": "stream",
       "stream": "stdout",
       "text": [
        "22 found 3987\n",
        "0 The Richard Eberhart Memorial Impossible Speedcheck Shootout 2007\n",
        "\t~"
       ]
      },
      {
       "output_type": "stream",
       "stream": "stdout",
       "text": [
        " 0 12\n",
        "0 IMSANITY 2 2012\n",
        "\t"
       ]
      },
      {
       "output_type": "stream",
       "stream": "stdout",
       "text": [
        "0 found 4229\n",
        "301 VCU Open (Sunday) 2010\n",
        "0"
       ]
      },
      {
       "output_type": "stream",
       "stream": "stdout",
       "text": [
        " Stanford Cardinal Classic 1993\n",
        "\t~ 0 0\n",
        "0"
       ]
      },
      {
       "output_type": "stream",
       "stream": "stdout",
       "text": [
        " ACF Nationals 1997\n",
        "\t"
       ]
      },
      {
       "output_type": "stream",
       "stream": "stdout",
       "text": [
        "1 found 4777\n",
        "0 Ladue Invitational Spring Tournament (LIST) IV 2014\n",
        "\t"
       ]
      },
      {
       "output_type": "stream",
       "stream": "stdout",
       "text": [
        "10 found 4777\n",
        "0 University of Georgia Classic City Classic 2009\n",
        "\t"
       ]
      },
      {
       "output_type": "stream",
       "stream": "stdout",
       "text": [
        "1 found 5025\n",
        "0 No Name Tournament 2008\n",
        "\t~"
       ]
      },
      {
       "output_type": "stream",
       "stream": "stdout",
       "text": [
        " 34 10\n",
        "0 Rolla Show-Me Academic Challenge 1994\n",
        "\t~"
       ]
      },
      {
       "output_type": "stream",
       "stream": "stdout",
       "text": [
        " 0 0\n",
        "0 Virginia Wahoo War 1995\n",
        "\t~"
       ]
      },
      {
       "output_type": "stream",
       "stream": "stdout",
       "text": [
        " 0 0\n",
        "0 Prison Bowl 2013\n",
        "\t"
       ]
      },
      {
       "output_type": "stream",
       "stream": "stdout",
       "text": [
        "0 found 5305\n",
        "0 Chicago Open History Doubles 2006\n",
        "\t"
       ]
      },
      {
       "output_type": "stream",
       "stream": "stdout",
       "text": [
        "0 found 5502\n",
        "0 QUARK 2012\n",
        "\t"
       ]
      },
      {
       "output_type": "stream",
       "stream": "stdout",
       "text": [
        "0 found 5779\n",
        "0 Chicago Open 2008\n",
        "\t"
       ]
      },
      {
       "output_type": "stream",
       "stream": "stdout",
       "text": [
        "0 found 6092\n",
        "0 Mildly Experimental Literature Doubles (MELD) 2010\n",
        "\t"
       ]
      },
      {
       "output_type": "stream",
       "stream": "stdout",
       "text": [
        "10 found 6092\n",
        "401 ACF Nationals 2004\n",
        "0"
       ]
      },
      {
       "output_type": "stream",
       "stream": "stdout",
       "text": [
        " Sun 'n' Fun 2008\n",
        "\t"
       ]
      },
      {
       "output_type": "stream",
       "stream": "stdout",
       "text": [
        "0 found 6312\n",
        "0 Show-Me Academic Challenge 1995\n",
        "\t~"
       ]
      },
      {
       "output_type": "stream",
       "stream": "stdout",
       "text": [
        " 0 0\n",
        "0 Berkeley Andrew Martinez 1994\n",
        "\t~"
       ]
      },
      {
       "output_type": "stream",
       "stream": "stdout",
       "text": [
        " 0 0\n",
        "0 Berkeley Archive None\n",
        "\t~"
       ]
      },
      {
       "output_type": "stream",
       "stream": "stdout",
       "text": [
        " 0 0\n",
        "0 Minnesota Open 2011\n",
        "\t~"
       ]
      },
      {
       "output_type": "stream",
       "stream": "stdout",
       "text": [
        " 0 0\n",
        "0 Masonic State 2012\n",
        "\t~"
       ]
      },
      {
       "output_type": "stream",
       "stream": "stdout",
       "text": [
        " 0 0\n",
        "0 VETO 2009\n",
        "\t~"
       ]
      },
      {
       "output_type": "stream",
       "stream": "stdout",
       "text": [
        " 0 0\n",
        "0 Illinois Novice 2000\n",
        "\t"
       ]
      },
      {
       "output_type": "stream",
       "stream": "stdout",
       "text": [
        "2 found 6312\n",
        "319 FICHTE 2009\n",
        "0"
       ]
      },
      {
       "output_type": "stream",
       "stream": "stdout",
       "text": [
        " Minnesota Undergraduate Tournament 2013\n",
        "\t"
       ]
      },
      {
       "output_type": "stream",
       "stream": "stdout",
       "text": [
        "10 found 6312\n",
        "0 Maryland Terrapin 1995\n",
        "\t~"
       ]
      },
      {
       "output_type": "stream",
       "stream": "stdout",
       "text": [
        " 0 0\n",
        "360 ACF Regionals 2012\n",
        "0"
       ]
      },
      {
       "output_type": "stream",
       "stream": "stdout",
       "text": [
        " FICHTE 2008\n",
        "\t"
       ]
      },
      {
       "output_type": "stream",
       "stream": "stdout",
       "text": [
        "0 found 6766\n",
        "0 Minnesota Paul Bunyan 1995\n",
        "\t~"
       ]
      },
      {
       "output_type": "stream",
       "stream": "stdout",
       "text": [
        " 0 0\n",
        "0 University of Florida Fall Tournament 2004\n",
        "\t"
       ]
      },
      {
       "output_type": "stream",
       "stream": "stdout",
       "text": [
        "0 found 6807\n",
        "0 Boston Summer Open 1999\n",
        "\t~"
       ]
      },
      {
       "output_type": "stream",
       "stream": "stdout",
       "text": [
        " 0 1\n",
        "0 New Trier Scobol Solo 2004\n",
        "\t~"
       ]
      },
      {
       "output_type": "stream",
       "stream": "stdout",
       "text": [
        " 38 16\n",
        "0 KLEE Fine Arts 2009\n",
        "\t~"
       ]
      },
      {
       "output_type": "stream",
       "stream": "stdout",
       "text": [
        " 0 0\n",
        "0 Maryland Spring Classic 2007\n",
        "\t"
       ]
      },
      {
       "output_type": "stream",
       "stream": "stdout",
       "text": [
        "0 found 7092\n",
        "0 Early Fall Tournament (EFT) 2009\n",
        "\t~"
       ]
      },
      {
       "output_type": "stream",
       "stream": "stdout",
       "text": [
        " 0 0\n",
        "321 DRAGOON 2013\n",
        "0"
       ]
      },
      {
       "output_type": "stream",
       "stream": "stdout",
       "text": [
        " MLK 2007\n",
        "\t"
       ]
      },
      {
       "output_type": "stream",
       "stream": "stdout",
       "text": [
        "0 found 7347\n",
        "0 Thomas Jefferson Invitational 2005\n",
        "\t~"
       ]
      },
      {
       "output_type": "stream",
       "stream": "stdout",
       "text": [
        " 0 0\n",
        "397 ACF Fall 2005\n",
        "0"
       ]
      },
      {
       "output_type": "stream",
       "stream": "stdout",
       "text": [
        " Berkeley Big Bowl 1994\n",
        "\t~ 0 0\n",
        "0"
       ]
      },
      {
       "output_type": "stream",
       "stream": "stdout",
       "text": [
        " Gunpei Yokoi Memorial Open (side event) 2008\n",
        "\t"
       ]
      },
      {
       "output_type": "stream",
       "stream": "stdout",
       "text": [
        "0 found 7440\n",
        "0 Minnesota 1993\n",
        "\t~"
       ]
      },
      {
       "output_type": "stream",
       "stream": "stdout",
       "text": [
        " 0 0\n",
        "336 ACF Fall 2001\n",
        "0"
       ]
      },
      {
       "output_type": "stream",
       "stream": "stdout",
       "text": [
        " St. Louis Open 2001\n",
        "\t"
       ]
      },
      {
       "output_type": "stream",
       "stream": "stdout",
       "text": [
        "0 found 7744\n",
        "0 Georgia Tech US Open 1989\n",
        "\t~"
       ]
      },
      {
       "output_type": "stream",
       "stream": "stdout",
       "text": [
        " 0 0\n",
        "0 Maryland Fall Classic 2006\n",
        "\t~"
       ]
      },
      {
       "output_type": "stream",
       "stream": "stdout",
       "text": [
        " 28 13\n",
        "0 Mahfouz Memorial Literature Singles 2009\n",
        "\t"
       ]
      },
      {
       "output_type": "stream",
       "stream": "stdout",
       "text": [
        "10 found 7744\n",
        "0 Penn Philadelphia Experiment 1995\n",
        "\t~"
       ]
      },
      {
       "output_type": "stream",
       "stream": "stdout",
       "text": [
        " 0 0\n",
        "0 Lederberg Memorial Science Tournament 2: Daughter Cell 2014\n",
        "\t"
       ]
      },
      {
       "output_type": "stream",
       "stream": "stdout",
       "text": [
        "0 found 7943\n",
        "0 Collaborative Middle School Tournament #2 2011\n"
       ]
      },
      {
       "ename": "KeyboardInterrupt",
       "evalue": "",
       "output_type": "pyerr",
       "traceback": [
        "\u001b[0;31m---------------------------------------------------------------------------\u001b[0m\n\u001b[0;31mKeyboardInterrupt\u001b[0m                         Traceback (most recent call last)",
        "\u001b[0;32m<ipython-input-125-942a45fe2610>\u001b[0m in \u001b[0;36m<module>\u001b[0;34m()\u001b[0m\n\u001b[1;32m     59\u001b[0m         \u001b[0mfoundcount\u001b[0m \u001b[0;34m=\u001b[0m \u001b[0;36m0\u001b[0m\u001b[0;34m\u001b[0m\u001b[0m\n\u001b[1;32m     60\u001b[0m         \u001b[0;32mfor\u001b[0m \u001b[0mtext\u001b[0m \u001b[0;32min\u001b[0m \u001b[0mrandom\u001b[0m\u001b[0;34m.\u001b[0m\u001b[0msample\u001b[0m\u001b[0;34m(\u001b[0m\u001b[0mmegapool\u001b[0m\u001b[0;34m,\u001b[0m \u001b[0;36m10\u001b[0m\u001b[0;34m)\u001b[0m\u001b[0;34m:\u001b[0m\u001b[0;34m\u001b[0m\u001b[0m\n\u001b[0;32m---> 61\u001b[0;31m             \u001b[0mfoundcount\u001b[0m \u001b[0;34m+=\u001b[0m \u001b[0mco\u001b[0m\u001b[0;34m.\u001b[0m\u001b[0mq\u001b[0m\u001b[0;34m.\u001b[0m\u001b[0mfind\u001b[0m\u001b[0;34m(\u001b[0m\u001b[0;34m{\u001b[0m\u001b[0;34m\"question\"\u001b[0m\u001b[0;34m:\u001b[0m \u001b[0;34m{\u001b[0m\u001b[0;34m\"$regex\"\u001b[0m\u001b[0;34m:\u001b[0m \u001b[0mregexify\u001b[0m\u001b[0;34m(\u001b[0m\u001b[0mtext\u001b[0m\u001b[0;34m)\u001b[0m\u001b[0;34m,\u001b[0m \u001b[0;34m\"$options\"\u001b[0m\u001b[0;34m:\u001b[0m \u001b[0;34m\"i\"\u001b[0m \u001b[0;34m}\u001b[0m\u001b[0;34m}\u001b[0m\u001b[0;34m)\u001b[0m\u001b[0;34m.\u001b[0m\u001b[0mcount\u001b[0m\u001b[0;34m(\u001b[0m\u001b[0;34m)\u001b[0m\u001b[0;34m\u001b[0m\u001b[0m\n\u001b[0m\u001b[1;32m     62\u001b[0m         \u001b[0;32mif\u001b[0m \u001b[0mfoundcount\u001b[0m \u001b[0;34m<\u001b[0m \u001b[0;36m2\u001b[0m\u001b[0;34m:\u001b[0m\u001b[0;34m\u001b[0m\u001b[0m\n\u001b[1;32m     63\u001b[0m             \u001b[0mmcgoats\u001b[0m \u001b[0;34m+=\u001b[0m \u001b[0mlen\u001b[0m\u001b[0;34m(\u001b[0m\u001b[0mmegapool\u001b[0m\u001b[0;34m)\u001b[0m\u001b[0;34m\u001b[0m\u001b[0m\n",
        "\u001b[0;32m/usr/local/lib/python2.7/site-packages/pymongo/cursor.pyc\u001b[0m in \u001b[0;36mcount\u001b[0;34m(self, with_limit_and_skip)\u001b[0m\n\u001b[1;32m    754\u001b[0m                              \u001b[0muuid_subtype\u001b[0m\u001b[0;34m=\u001b[0m\u001b[0mself\u001b[0m\u001b[0;34m.\u001b[0m\u001b[0m__uuid_subtype\u001b[0m\u001b[0;34m,\u001b[0m\u001b[0;34m\u001b[0m\u001b[0m\n\u001b[1;32m    755\u001b[0m                              \u001b[0mcompile_re\u001b[0m\u001b[0;34m=\u001b[0m\u001b[0mself\u001b[0m\u001b[0;34m.\u001b[0m\u001b[0m__compile_re\u001b[0m\u001b[0;34m,\u001b[0m\u001b[0;34m\u001b[0m\u001b[0m\n\u001b[0;32m--> 756\u001b[0;31m                              **command)\n\u001b[0m\u001b[1;32m    757\u001b[0m         \u001b[0;32mif\u001b[0m \u001b[0mr\u001b[0m\u001b[0;34m.\u001b[0m\u001b[0mget\u001b[0m\u001b[0;34m(\u001b[0m\u001b[0;34m\"errmsg\"\u001b[0m\u001b[0;34m,\u001b[0m \u001b[0;34m\"\"\u001b[0m\u001b[0;34m)\u001b[0m \u001b[0;34m==\u001b[0m \u001b[0;34m\"ns missing\"\u001b[0m\u001b[0;34m:\u001b[0m\u001b[0;34m\u001b[0m\u001b[0m\n\u001b[1;32m    758\u001b[0m             \u001b[0;32mreturn\u001b[0m \u001b[0;36m0\u001b[0m\u001b[0;34m\u001b[0m\u001b[0m\n",
        "\u001b[0;32m/usr/local/lib/python2.7/site-packages/pymongo/database.pyc\u001b[0m in \u001b[0;36mcommand\u001b[0;34m(self, command, value, check, allowable_errors, uuid_subtype, compile_re, **kwargs)\u001b[0m\n\u001b[1;32m    443\u001b[0m         \"\"\"\n\u001b[1;32m    444\u001b[0m         return self._command(command, value, check, allowable_errors,\n\u001b[0;32m--> 445\u001b[0;31m                              uuid_subtype, compile_re, **kwargs)[0]\n\u001b[0m\u001b[1;32m    446\u001b[0m \u001b[0;34m\u001b[0m\u001b[0m\n\u001b[1;32m    447\u001b[0m     \u001b[0;32mdef\u001b[0m \u001b[0mcollection_names\u001b[0m\u001b[0;34m(\u001b[0m\u001b[0mself\u001b[0m\u001b[0;34m,\u001b[0m \u001b[0minclude_system_collections\u001b[0m\u001b[0;34m=\u001b[0m\u001b[0mTrue\u001b[0m\u001b[0;34m)\u001b[0m\u001b[0;34m:\u001b[0m\u001b[0;34m\u001b[0m\u001b[0m\n",
        "\u001b[0;32m/usr/local/lib/python2.7/site-packages/pymongo/database.pyc\u001b[0m in \u001b[0;36m_command\u001b[0;34m(self, command, value, check, allowable_errors, uuid_subtype, compile_re, **kwargs)\u001b[0m\n\u001b[1;32m    343\u001b[0m \u001b[0;34m\u001b[0m\u001b[0m\n\u001b[1;32m    344\u001b[0m         \u001b[0mcursor\u001b[0m \u001b[0;34m=\u001b[0m \u001b[0mself\u001b[0m\u001b[0;34m[\u001b[0m\u001b[0;34m\"$cmd\"\u001b[0m\u001b[0;34m]\u001b[0m\u001b[0;34m.\u001b[0m\u001b[0mfind\u001b[0m\u001b[0;34m(\u001b[0m\u001b[0mcommand\u001b[0m\u001b[0;34m,\u001b[0m \u001b[0;34m**\u001b[0m\u001b[0mextra_opts\u001b[0m\u001b[0;34m)\u001b[0m\u001b[0;34m.\u001b[0m\u001b[0mlimit\u001b[0m\u001b[0;34m(\u001b[0m\u001b[0;34m-\u001b[0m\u001b[0;36m1\u001b[0m\u001b[0;34m)\u001b[0m\u001b[0;34m\u001b[0m\u001b[0m\n\u001b[0;32m--> 345\u001b[0;31m         \u001b[0;32mfor\u001b[0m \u001b[0mdoc\u001b[0m \u001b[0;32min\u001b[0m \u001b[0mcursor\u001b[0m\u001b[0;34m:\u001b[0m\u001b[0;34m\u001b[0m\u001b[0m\n\u001b[0m\u001b[1;32m    346\u001b[0m             \u001b[0mresult\u001b[0m \u001b[0;34m=\u001b[0m \u001b[0mdoc\u001b[0m\u001b[0;34m\u001b[0m\u001b[0m\n\u001b[1;32m    347\u001b[0m \u001b[0;34m\u001b[0m\u001b[0m\n",
        "\u001b[0;32m/usr/local/lib/python2.7/site-packages/pymongo/cursor.pyc\u001b[0m in \u001b[0;36mnext\u001b[0;34m(self)\u001b[0m\n\u001b[1;32m   1056\u001b[0m             \u001b[0;32mraise\u001b[0m \u001b[0mStopIteration\u001b[0m\u001b[0;34m\u001b[0m\u001b[0m\n\u001b[1;32m   1057\u001b[0m         \u001b[0mdb\u001b[0m \u001b[0;34m=\u001b[0m \u001b[0mself\u001b[0m\u001b[0;34m.\u001b[0m\u001b[0m__collection\u001b[0m\u001b[0;34m.\u001b[0m\u001b[0mdatabase\u001b[0m\u001b[0;34m\u001b[0m\u001b[0m\n\u001b[0;32m-> 1058\u001b[0;31m         \u001b[0;32mif\u001b[0m \u001b[0mlen\u001b[0m\u001b[0;34m(\u001b[0m\u001b[0mself\u001b[0m\u001b[0;34m.\u001b[0m\u001b[0m__data\u001b[0m\u001b[0;34m)\u001b[0m \u001b[0;32mor\u001b[0m \u001b[0mself\u001b[0m\u001b[0;34m.\u001b[0m\u001b[0m_refresh\u001b[0m\u001b[0;34m(\u001b[0m\u001b[0;34m)\u001b[0m\u001b[0;34m:\u001b[0m\u001b[0;34m\u001b[0m\u001b[0m\n\u001b[0m\u001b[1;32m   1059\u001b[0m             \u001b[0;32mif\u001b[0m \u001b[0mself\u001b[0m\u001b[0;34m.\u001b[0m\u001b[0m__manipulate\u001b[0m\u001b[0;34m:\u001b[0m\u001b[0;34m\u001b[0m\u001b[0m\n\u001b[1;32m   1060\u001b[0m                 return db._fix_outgoing(self.__data.popleft(),\n",
        "\u001b[0;32m/usr/local/lib/python2.7/site-packages/pymongo/cursor.pyc\u001b[0m in \u001b[0;36m_refresh\u001b[0;34m(self)\u001b[0m\n\u001b[1;32m   1000\u001b[0m                               \u001b[0mself\u001b[0m\u001b[0;34m.\u001b[0m\u001b[0m__skip\u001b[0m\u001b[0;34m,\u001b[0m \u001b[0mntoreturn\u001b[0m\u001b[0;34m,\u001b[0m\u001b[0;34m\u001b[0m\u001b[0m\n\u001b[1;32m   1001\u001b[0m                               \u001b[0mself\u001b[0m\u001b[0;34m.\u001b[0m\u001b[0m__query_spec\u001b[0m\u001b[0;34m(\u001b[0m\u001b[0;34m)\u001b[0m\u001b[0;34m,\u001b[0m \u001b[0mself\u001b[0m\u001b[0;34m.\u001b[0m\u001b[0m__fields\u001b[0m\u001b[0;34m,\u001b[0m\u001b[0;34m\u001b[0m\u001b[0m\n\u001b[0;32m-> 1002\u001b[0;31m                               self.__uuid_subtype))\n\u001b[0m\u001b[1;32m   1003\u001b[0m             \u001b[0;32mif\u001b[0m \u001b[0;32mnot\u001b[0m \u001b[0mself\u001b[0m\u001b[0;34m.\u001b[0m\u001b[0m__id\u001b[0m\u001b[0;34m:\u001b[0m\u001b[0;34m\u001b[0m\u001b[0m\n\u001b[1;32m   1004\u001b[0m                 \u001b[0mself\u001b[0m\u001b[0;34m.\u001b[0m\u001b[0m__killed\u001b[0m \u001b[0;34m=\u001b[0m \u001b[0mTrue\u001b[0m\u001b[0;34m\u001b[0m\u001b[0m\n",
        "\u001b[0;32m/usr/local/lib/python2.7/site-packages/pymongo/cursor.pyc\u001b[0m in \u001b[0;36m__send_message\u001b[0;34m(self, message)\u001b[0m\n\u001b[1;32m    913\u001b[0m \u001b[0;34m\u001b[0m\u001b[0m\n\u001b[1;32m    914\u001b[0m             \u001b[0;32mtry\u001b[0m\u001b[0;34m:\u001b[0m\u001b[0;34m\u001b[0m\u001b[0m\n\u001b[0;32m--> 915\u001b[0;31m                 \u001b[0mres\u001b[0m \u001b[0;34m=\u001b[0m \u001b[0mclient\u001b[0m\u001b[0;34m.\u001b[0m\u001b[0m_send_message_with_response\u001b[0m\u001b[0;34m(\u001b[0m\u001b[0mmessage\u001b[0m\u001b[0;34m,\u001b[0m \u001b[0;34m**\u001b[0m\u001b[0mkwargs\u001b[0m\u001b[0;34m)\u001b[0m\u001b[0;34m\u001b[0m\u001b[0m\n\u001b[0m\u001b[1;32m    916\u001b[0m                 \u001b[0mself\u001b[0m\u001b[0;34m.\u001b[0m\u001b[0m__connection_id\u001b[0m\u001b[0;34m,\u001b[0m \u001b[0;34m(\u001b[0m\u001b[0mresponse\u001b[0m\u001b[0;34m,\u001b[0m \u001b[0msock\u001b[0m\u001b[0;34m,\u001b[0m \u001b[0mpool\u001b[0m\u001b[0;34m)\u001b[0m \u001b[0;34m=\u001b[0m \u001b[0mres\u001b[0m\u001b[0;34m\u001b[0m\u001b[0m\n\u001b[1;32m    917\u001b[0m                 \u001b[0;32mif\u001b[0m \u001b[0mself\u001b[0m\u001b[0;34m.\u001b[0m\u001b[0m__exhaust\u001b[0m\u001b[0;34m:\u001b[0m\u001b[0;34m\u001b[0m\u001b[0m\n",
        "\u001b[0;32m/usr/local/lib/python2.7/site-packages/pymongo/mongo_client.pyc\u001b[0m in \u001b[0;36m_send_message_with_response\u001b[0;34m(self, message, _must_use_master, **kwargs)\u001b[0m\n\u001b[1;32m   1196\u001b[0m                 \u001b[0msock_info\u001b[0m\u001b[0;34m.\u001b[0m\u001b[0msock\u001b[0m\u001b[0;34m.\u001b[0m\u001b[0msettimeout\u001b[0m\u001b[0;34m(\u001b[0m\u001b[0mkwargs\u001b[0m\u001b[0;34m[\u001b[0m\u001b[0;34m\"network_timeout\"\u001b[0m\u001b[0;34m]\u001b[0m\u001b[0;34m)\u001b[0m\u001b[0;34m\u001b[0m\u001b[0m\n\u001b[1;32m   1197\u001b[0m \u001b[0;34m\u001b[0m\u001b[0m\n\u001b[0;32m-> 1198\u001b[0;31m             \u001b[0mresponse\u001b[0m \u001b[0;34m=\u001b[0m \u001b[0mself\u001b[0m\u001b[0;34m.\u001b[0m\u001b[0m__send_and_receive\u001b[0m\u001b[0;34m(\u001b[0m\u001b[0mmessage\u001b[0m\u001b[0;34m,\u001b[0m \u001b[0msock_info\u001b[0m\u001b[0;34m)\u001b[0m\u001b[0;34m\u001b[0m\u001b[0m\n\u001b[0m\u001b[1;32m   1199\u001b[0m \u001b[0;34m\u001b[0m\u001b[0m\n\u001b[1;32m   1200\u001b[0m             \u001b[0;32mif\u001b[0m \u001b[0;32mnot\u001b[0m \u001b[0mexhaust\u001b[0m\u001b[0;34m:\u001b[0m\u001b[0;34m\u001b[0m\u001b[0m\n",
        "\u001b[0;32m/usr/local/lib/python2.7/site-packages/pymongo/mongo_client.pyc\u001b[0m in \u001b[0;36m__send_and_receive\u001b[0;34m(self, message, sock_info)\u001b[0m\n\u001b[1;32m   1173\u001b[0m         \u001b[0;32mtry\u001b[0m\u001b[0;34m:\u001b[0m\u001b[0;34m\u001b[0m\u001b[0m\n\u001b[1;32m   1174\u001b[0m             \u001b[0msock_info\u001b[0m\u001b[0;34m.\u001b[0m\u001b[0msock\u001b[0m\u001b[0;34m.\u001b[0m\u001b[0msendall\u001b[0m\u001b[0;34m(\u001b[0m\u001b[0mdata\u001b[0m\u001b[0;34m)\u001b[0m\u001b[0;34m\u001b[0m\u001b[0m\n\u001b[0;32m-> 1175\u001b[0;31m             \u001b[0;32mreturn\u001b[0m \u001b[0mself\u001b[0m\u001b[0;34m.\u001b[0m\u001b[0m__receive_message_on_socket\u001b[0m\u001b[0;34m(\u001b[0m\u001b[0;36m1\u001b[0m\u001b[0;34m,\u001b[0m \u001b[0mrequest_id\u001b[0m\u001b[0;34m,\u001b[0m \u001b[0msock_info\u001b[0m\u001b[0;34m)\u001b[0m\u001b[0;34m\u001b[0m\u001b[0m\n\u001b[0m\u001b[1;32m   1176\u001b[0m         \u001b[0;32mexcept\u001b[0m\u001b[0;34m:\u001b[0m\u001b[0;34m\u001b[0m\u001b[0m\n\u001b[1;32m   1177\u001b[0m             \u001b[0msock_info\u001b[0m\u001b[0;34m.\u001b[0m\u001b[0mclose\u001b[0m\u001b[0;34m(\u001b[0m\u001b[0;34m)\u001b[0m\u001b[0;34m\u001b[0m\u001b[0m\n",
        "\u001b[0;32m/usr/local/lib/python2.7/site-packages/pymongo/mongo_client.pyc\u001b[0m in \u001b[0;36m__receive_message_on_socket\u001b[0;34m(self, operation, rqst_id, sock_info)\u001b[0m\n\u001b[1;32m   1156\u001b[0m         \u001b[0mReturns\u001b[0m \u001b[0mthe\u001b[0m \u001b[0mresponse\u001b[0m \u001b[0mdata\u001b[0m \u001b[0;32mwith\u001b[0m \u001b[0mthe\u001b[0m \u001b[0mheader\u001b[0m \u001b[0mremoved\u001b[0m\u001b[0;34m.\u001b[0m\u001b[0;34m\u001b[0m\u001b[0m\n\u001b[1;32m   1157\u001b[0m         \"\"\"\n\u001b[0;32m-> 1158\u001b[0;31m         \u001b[0mheader\u001b[0m \u001b[0;34m=\u001b[0m \u001b[0mself\u001b[0m\u001b[0;34m.\u001b[0m\u001b[0m__receive_data_on_socket\u001b[0m\u001b[0;34m(\u001b[0m\u001b[0;36m16\u001b[0m\u001b[0;34m,\u001b[0m \u001b[0msock_info\u001b[0m\u001b[0;34m)\u001b[0m\u001b[0;34m\u001b[0m\u001b[0m\n\u001b[0m\u001b[1;32m   1159\u001b[0m         \u001b[0mlength\u001b[0m \u001b[0;34m=\u001b[0m \u001b[0mstruct\u001b[0m\u001b[0;34m.\u001b[0m\u001b[0munpack\u001b[0m\u001b[0;34m(\u001b[0m\u001b[0;34m\"<i\"\u001b[0m\u001b[0;34m,\u001b[0m \u001b[0mheader\u001b[0m\u001b[0;34m[\u001b[0m\u001b[0;34m:\u001b[0m\u001b[0;36m4\u001b[0m\u001b[0;34m]\u001b[0m\u001b[0;34m)\u001b[0m\u001b[0;34m[\u001b[0m\u001b[0;36m0\u001b[0m\u001b[0;34m]\u001b[0m\u001b[0;34m\u001b[0m\u001b[0m\n\u001b[1;32m   1160\u001b[0m         \u001b[0;31m# No rqst_id for exhaust cursor \"getMore\".\u001b[0m\u001b[0;34m\u001b[0m\u001b[0;34m\u001b[0m\u001b[0m\n",
        "\u001b[0;32m/usr/local/lib/python2.7/site-packages/pymongo/mongo_client.pyc\u001b[0m in \u001b[0;36m__receive_data_on_socket\u001b[0;34m(self, length, sock_info)\u001b[0m\n\u001b[1;32m   1144\u001b[0m         \u001b[0mmessage\u001b[0m \u001b[0;34m=\u001b[0m \u001b[0mEMPTY\u001b[0m\u001b[0;34m\u001b[0m\u001b[0m\n\u001b[1;32m   1145\u001b[0m         \u001b[0;32mwhile\u001b[0m \u001b[0mlength\u001b[0m\u001b[0;34m:\u001b[0m\u001b[0;34m\u001b[0m\u001b[0m\n\u001b[0;32m-> 1146\u001b[0;31m             \u001b[0mchunk\u001b[0m \u001b[0;34m=\u001b[0m \u001b[0msock_info\u001b[0m\u001b[0;34m.\u001b[0m\u001b[0msock\u001b[0m\u001b[0;34m.\u001b[0m\u001b[0mrecv\u001b[0m\u001b[0;34m(\u001b[0m\u001b[0mlength\u001b[0m\u001b[0;34m)\u001b[0m\u001b[0;34m\u001b[0m\u001b[0m\n\u001b[0m\u001b[1;32m   1147\u001b[0m             \u001b[0;32mif\u001b[0m \u001b[0mchunk\u001b[0m \u001b[0;34m==\u001b[0m \u001b[0mEMPTY\u001b[0m\u001b[0;34m:\u001b[0m\u001b[0;34m\u001b[0m\u001b[0m\n\u001b[1;32m   1148\u001b[0m                 \u001b[0;32mraise\u001b[0m \u001b[0mConnectionFailure\u001b[0m\u001b[0;34m(\u001b[0m\u001b[0;34m\"connection closed\"\u001b[0m\u001b[0;34m)\u001b[0m\u001b[0;34m\u001b[0m\u001b[0m\n",
        "\u001b[0;31mKeyboardInterrupt\u001b[0m: "
       ]
      }
     ],
     "prompt_number": 125
    },
    {
     "cell_type": "code",
     "collapsed": false,
     "input": [
      "plt.hist(lengths, bins=50)"
     ],
     "language": "python",
     "metadata": {},
     "outputs": [
      {
       "metadata": {},
       "output_type": "pyout",
       "prompt_number": 165,
       "text": [
        "(array([  1.05300000e+03,   1.17000000e+03,   1.41800000e+03,\n",
        "          1.99500000e+03,   2.32500000e+03,   2.52600000e+03,\n",
        "          2.99900000e+03,   3.47700000e+03,   4.38900000e+03,\n",
        "          4.65400000e+03,   5.10200000e+03,   5.31600000e+03,\n",
        "          4.57500000e+03,   2.97200000e+03,   2.50800000e+03,\n",
        "          2.46400000e+03,   2.13100000e+03,   1.75600000e+03,\n",
        "          1.54600000e+03,   1.21300000e+03,   8.66000000e+02,\n",
        "          6.74000000e+02,   5.66000000e+02,   3.97000000e+02,\n",
        "          1.97000000e+02,   1.58000000e+02,   1.13000000e+02,\n",
        "          8.20000000e+01,   4.80000000e+01,   4.50000000e+01,\n",
        "          2.70000000e+01,   1.70000000e+01,   1.80000000e+01,\n",
        "          7.00000000e+00,   5.00000000e+00,   2.00000000e+00,\n",
        "          5.00000000e+00,   3.00000000e+00,   2.00000000e+00,\n",
        "          1.00000000e+00,   1.00000000e+00,   0.00000000e+00,\n",
        "          0.00000000e+00,   0.00000000e+00,   0.00000000e+00,\n",
        "          1.00000000e+00,   0.00000000e+00,   0.00000000e+00,\n",
        "          0.00000000e+00,   1.00000000e+00]),\n",
        " array([  301.  ,   331.76,   362.52,   393.28,   424.04,   454.8 ,\n",
        "          485.56,   516.32,   547.08,   577.84,   608.6 ,   639.36,\n",
        "          670.12,   700.88,   731.64,   762.4 ,   793.16,   823.92,\n",
        "          854.68,   885.44,   916.2 ,   946.96,   977.72,  1008.48,\n",
        "         1039.24,  1070.  ,  1100.76,  1131.52,  1162.28,  1193.04,\n",
        "         1223.8 ,  1254.56,  1285.32,  1316.08,  1346.84,  1377.6 ,\n",
        "         1408.36,  1439.12,  1469.88,  1500.64,  1531.4 ,  1562.16,\n",
        "         1592.92,  1623.68,  1654.44,  1685.2 ,  1715.96,  1746.72,\n",
        "         1777.48,  1808.24,  1839.  ]),\n",
        " <a list of 50 Patch objects>)"
       ]
      },
      {
       "metadata": {},
       "output_type": "display_data",
       "png": "[encoded data removed]",
       "text": [
        "<matplotlib.figure.Figure at 0x1133e6390>"
       ]
      }
     ],
     "prompt_number": 165
    },
    {
     "cell_type": "code",
     "collapsed": false,
     "input": [
      "len(lengths)"
     ],
     "language": "python",
     "metadata": {},
     "outputs": [
      {
       "metadata": {},
       "output_type": "pyout",
       "prompt_number": 166,
       "text": [
        "58825"
       ]
      }
     ],
     "prompt_number": 166
    },
    {
     "cell_type": "code",
     "collapsed": false,
     "input": [
      "plt.hist([1, 1, 1, 2])"
     ],
     "language": "python",
     "metadata": {},
     "outputs": [
      {
       "metadata": {},
       "output_type": "pyout",
       "prompt_number": 10,
       "text": [
        "(array([ 3.,  0.,  0.,  0.,  0.,  0.,  0.,  0.,  0.,  1.]),\n",
        " array([ 1. ,  1.1,  1.2,  1.3,  1.4,  1.5,  1.6,  1.7,  1.8,  1.9,  2. ]),\n",
        " <a list of 10 Patch objects>)"
       ]
      },
      {
       "metadata": {},
       "output_type": "display_data",
       "png": "[encoded data removed]",
       "text": [
        "<matplotlib.figure.Figure at 0x111f94150>"
       ]
      }
     ],
     "prompt_number": 10
    },
    {
     "cell_type": "code",
     "collapsed": false,
     "input": [
      "# text = \"20\\. One part of this work describes the author\u2019s reluctance to tile his bathroom and argues that the toilet \u201cis the perfect place\u2026 to enjoy any of those poignant moments that mark the change of the seasons.\u201d Towards the end of this work, the author complains about a ruined moon-viewing at a popular hotel, and expresses dismay at the necessity for consulting traffic signals before crossing the street. This essay writes approvingly of the \u201csheen of antiquity\u201d which the author calls \u201cthe glow of grime,\u201d and a frequent target of criticism in this work is the widespread introduction of electric lighting. This work lauds the (*) \u201cdarkness of the No stage\u201d for resembling \u201cthe darkness of the domestic architecture of the day,\u201d and notes how in the author\u2019s country the alcove obtains \u201ca quality of mystery and depth,\u201d by virtue of being cut off from the light. For 10 points, identify this essay which contrasts the Western love for shiny things with the Japanese love for the title light-generated phenomena, written by Junichiro Tanizaki. \"\n",
      "text = \"The final passage in this book, consisting of Chapter 16, Verses 9-20 and accounting for the Resurrection, is omitted in some manuscripts and replaced by a shorter passage in others. Among its notable aspects is the author's emphasis on Jesus' reluctance to reveal himself as the Messiah, as well as the author's attention to the Passion, predicting it as early as chapter 8 and devoting the final third of the book to the last week in Jesus' life. The shortest and earliest of the four gospels, FTP, what is this second book of the four New Testament Gospels?\"\n",
      "\n",
      "from nltk.corpus import stopwords\n",
      "\n",
      "stahp = set(stopwords.words(\"english\") + u'author accept name another use used include including includes title wrote first also known begin prompt man woman person neg ftp points point one two three four five six seven eight nine ten 1 2 3 4 5 6 7 8 9 10 n t y mention anything basic achieve group main time tell'.split(\" \"))\n",
      "\n",
      "import random\n",
      "\n",
      "def regexify(text):\n",
      "    things = [w for w in re.split(r'[^A-Za-z]+', text.lower()) if w != '' and w not in stahp and len(w) > 4]\n",
      "    return \".+\".join([things[i] for i in sorted(random.sample(range(len(things)), 5))])\n",
      "    \n",
      "#     ctr = random.randint(1, 5)\n",
      "#     query = []\n",
      "#     while ctr < len(things):\n",
      "#         query.append(things[ctr])\n",
      "#         ctr += random.randint(1, 5)\n",
      "#     return \".+\".join(query[:5])\n",
      "\n",
      "print regexify(text)"
     ],
     "language": "python",
     "metadata": {},
     "outputs": [
      {
       "output_type": "stream",
       "stream": "stdout",
       "text": [
        "final.+others.+emphasis.+messiah.+third\n"
       ]
      }
     ],
     "prompt_number": 188
    },
    {
     "cell_type": "code",
     "collapsed": false,
     "input": [
      "import re\n",
      "lengths = []\n",
      "num = 0\n",
      "def pr(x):\n",
      "    global num\n",
      "    num += 1\n",
      "    if num < 100:\n",
      "        print x,\"\\n\"\n",
      "\n",
      "mcgoats = 0\n",
      "for tournament in db.tournaments.find():\n",
      "    tname = re.sub(r\"^\\d{4}(\\-\\d{4})?\", \"\", tournament['name']).strip()\n",
      "    count = co.q2.find({\"tournament\": tname, \"year\": tournament['year']}).count()\n",
      "\n",
      "    if count > 0:\n",
      "        print \"skipped\", count, tname, tournament['year']\n",
      "        continue\n",
      "        \n",
      "    megapool = []\n",
      "    packetcount = 0\n",
      "    for p in db.packets.find({\"tournament\": tournament['_id'], \"questions\": {\"$ne\": None}}):\n",
      "        pristine = 0\n",
      "        packetcount += 1\n",
      "        pool = []\n",
      "        for q in p['questions']:\n",
      "            text = q['question'].strip()\n",
      "            ans = q['answer']\n",
      "            if is_good(text):\n",
      "                if len(text) > 300:\n",
      "#                     pr(text)\n",
      "                    lengths.append(len(text))\n",
      "                    pool.append(text)\n",
      "                    pristine += 1\n",
      "        if pristine > 15:\n",
      "            megapool.extend(pool)\n",
      "    if packetcount > 0:\n",
      "        print count, tname, tournament['year'], \"q:\", len(megapool), \"p:\", packetcount\n",
      "    if len(megapool) > 40:\n",
      "        foundcount = 0\n",
      "        for text in random.sample(megapool, 10):\n",
      "            foundcount += co.q2.find({\"question\": {\"$regex\": regexify(text), \"$options\": \"i\" }}).count()\n",
      "        if foundcount < 2:\n",
      "            for p in db.packets.find({\"tournament\": tournament['_id'], \"questions\": {\"$ne\": None}}):\n",
      "                for q in p['questions']:\n",
      "                    text = q['question'].strip()\n",
      "                    ans = q['answer']\n",
      "                    if is_good(text):\n",
      "                        if len(text) > 300:\n",
      "                            co.qcan.insert({\n",
      "                                \"year\": tournament['year'],\n",
      "                                \"question\": text,\n",
      "                                \"answer\": ans, \n",
      "                                \"difficulty\": tournament['difficulty'],\n",
      "                                \"round\": p['name'],\n",
      "                                \"tournament\": tname\n",
      "                            })\n",
      "            mcgoats += len(megapool)\n",
      "        print \"\\t\", foundcount, \"found\", mcgoats\n",
      "\n",
      "                "
     ],
     "language": "python",
     "metadata": {},
     "outputs": [
      {
       "output_type": "stream",
       "stream": "stdout",
       "text": [
        "0 Gorilla Lit 2014 q: 186 p: 9\n",
        "\t"
       ]
      },
      {
       "output_type": "stream",
       "stream": "stdout",
       "text": [
        "0 found 186\n",
        "0"
       ]
      },
      {
       "output_type": "stream",
       "stream": "stdout",
       "text": [
        " SCOP 3 2012 q: 162 p: 12\n",
        "\t"
       ]
      },
      {
       "output_type": "stream",
       "stream": "stdout",
       "text": [
        "0 found 348\n",
        "0"
       ]
      },
      {
       "output_type": "stream",
       "stream": "stdout",
       "text": [
        " BARGE 2012 q: 189 p: 13\n",
        "\t"
       ]
      },
      {
       "output_type": "stream",
       "stream": "stdout",
       "text": [
        "0 found 537\n",
        "0"
       ]
      },
      {
       "output_type": "stream",
       "stream": "stdout",
       "text": [
        " Chicago Open 2006 q: 296 p: 15\n",
        "\t"
       ]
      },
      {
       "output_type": "stream",
       "stream": "stdout",
       "text": [
        "0 found 833\n",
        "skipped"
       ]
      },
      {
       "output_type": "stream",
       "stream": "stdout",
       "text": [
        " 351 ACF Regionals 2011\n",
        "0"
       ]
      },
      {
       "output_type": "stream",
       "stream": "stdout",
       "text": [
        " SASS 2013 q: 68 p: 8\n",
        "\t"
       ]
      },
      {
       "output_type": "stream",
       "stream": "stdout",
       "text": [
        "0 found 901\n",
        "0"
       ]
      },
      {
       "output_type": "stream",
       "stream": "stdout",
       "text": [
        " Tricontakaipentagon 2.5 2013 q: 222 p: 9\n",
        "\t"
       ]
      },
      {
       "output_type": "stream",
       "stream": "stdout",
       "text": [
        "0 found 1123\n",
        "0"
       ]
      },
      {
       "output_type": "stream",
       "stream": "stdout",
       "text": [
        " Chipola Lit/Fine Arts Singles 2010 q: 381 p: 11\n",
        "\t"
       ]
      },
      {
       "output_type": "stream",
       "stream": "stdout",
       "text": [
        "11 found 1123\n",
        "0"
       ]
      },
      {
       "output_type": "stream",
       "stream": "stdout",
       "text": [
        " Jean-Baptiste Lully Memorial Fine Arts 2010 q: 223 p: 14\n",
        "\t"
       ]
      },
      {
       "output_type": "stream",
       "stream": "stdout",
       "text": [
        "10 found 1123\n",
        "0"
       ]
      },
      {
       "output_type": "stream",
       "stream": "stdout",
       "text": [
        " Chicago \"Sack of Antwerp\" 2011 q: 234 p: 14\n",
        "\t"
       ]
      },
      {
       "output_type": "stream",
       "stream": "stdout",
       "text": [
        "8 found 1123\n",
        "0"
       ]
      },
      {
       "output_type": "stream",
       "stream": "stdout",
       "text": [
        " Peaceful Resolution 2012 q: 264 p: 16\n",
        "\t"
       ]
      },
      {
       "output_type": "stream",
       "stream": "stdout",
       "text": [
        "0 found 1387\n",
        "0"
       ]
      },
      {
       "output_type": "stream",
       "stream": "stdout",
       "text": [
        " Princeton Buzzerfest IX 2010 q: 296 p: 15\n",
        "\t"
       ]
      },
      {
       "output_type": "stream",
       "stream": "stdout",
       "text": [
        "10 found 1387\n",
        "skipped 336 ACF Regionals 2010\n",
        "0"
       ]
      },
      {
       "output_type": "stream",
       "stream": "stdout",
       "text": [
        " The Questions Concerning Technology 2012 q: 49 p: 10\n",
        "\t"
       ]
      },
      {
       "output_type": "stream",
       "stream": "stdout",
       "text": [
        "0 found 1436\n",
        "0"
       ]
      },
      {
       "output_type": "stream",
       "stream": "stdout",
       "text": [
        " Tyrone Slothrop Lit 2009 q: 233 p: 11\n",
        "\t"
       ]
      },
      {
       "output_type": "stream",
       "stream": "stdout",
       "text": [
        "0 found 1669\n",
        "0"
       ]
      },
      {
       "output_type": "stream",
       "stream": "stdout",
       "text": [
        " Maryland Fall Classic 2007 q: 0 p: 12\n",
        "0"
       ]
      },
      {
       "output_type": "stream",
       "stream": "stdout",
       "text": [
        " Ben Cooper 2010 q: 256 p: 13\n",
        "\t"
       ]
      },
      {
       "output_type": "stream",
       "stream": "stdout",
       "text": [
        "10 found 1669\n",
        "0"
       ]
      },
      {
       "output_type": "stream",
       "stream": "stdout",
       "text": [
        " New Trier Scobol Solo 2009 q: 263 p: 1\n",
        "\t"
       ]
      },
      {
       "output_type": "stream",
       "stream": "stdout",
       "text": [
        "0 found 1932\n",
        "0"
       ]
      },
      {
       "output_type": "stream",
       "stream": "stdout",
       "text": [
        " Maggie Walker GSAC XVI 2008 q: 181 p: 20\n",
        "\t"
       ]
      },
      {
       "output_type": "stream",
       "stream": "stdout",
       "text": [
        "0 found 2113\n",
        "skipped 352 ACF Nationals 2001\n",
        "0"
       ]
      },
      {
       "output_type": "stream",
       "stream": "stdout",
       "text": [
        " BATE 2010 q: 274 p: 12\n",
        "\t"
       ]
      },
      {
       "output_type": "stream",
       "stream": "stdout",
       "text": [
        "0 found 2387\n",
        "0"
       ]
      },
      {
       "output_type": "stream",
       "stream": "stdout",
       "text": [
        " Toby Keith Hybrid 2005 q: 214 p: 11\n",
        "\t"
       ]
      },
      {
       "output_type": "stream",
       "stream": "stdout",
       "text": [
        "0 found 2601\n",
        "0"
       ]
      },
      {
       "output_type": "stream",
       "stream": "stdout",
       "text": [
        " Spring Offensive (history tournament) 2010 q: 176 p: 10\n",
        "\t"
       ]
      },
      {
       "output_type": "stream",
       "stream": "stdout",
       "text": [
        "0 found 2777\n",
        "0"
       ]
      },
      {
       "output_type": "stream",
       "stream": "stdout",
       "text": [
        " YMIR 2012 q: 164 p: 8\n",
        "\t"
       ]
      },
      {
       "output_type": "stream",
       "stream": "stdout",
       "text": [
        "0 found 2941\n",
        "0"
       ]
      },
      {
       "output_type": "stream",
       "stream": "stdout",
       "text": [
        " IMSANITY 4 2013 q: 227 p: 15\n",
        "\t"
       ]
      },
      {
       "output_type": "stream",
       "stream": "stdout",
       "text": [
        "0 found 3168\n",
        "0"
       ]
      },
      {
       "output_type": "stream",
       "stream": "stdout",
       "text": [
        " Toby Keith Hybrid 2006 q: 302 p: 13\n",
        "\t"
       ]
      },
      {
       "output_type": "stream",
       "stream": "stdout",
       "text": [
        "0 found 3470\n",
        "0"
       ]
      },
      {
       "output_type": "stream",
       "stream": "stdout",
       "text": [
        " The Richard Eberhart Memorial Impossible Speedcheck Shootout 2007 q: 0 p: 12\n",
        "0"
       ]
      },
      {
       "output_type": "stream",
       "stream": "stdout",
       "text": [
        " IMSANITY 2 2012 q: 209 p: 13\n",
        "\t"
       ]
      },
      {
       "output_type": "stream",
       "stream": "stdout",
       "text": [
        "0 found 3679\n",
        "skipped 314 VCU Open (Sunday) 2010\n",
        "0"
       ]
      },
      {
       "output_type": "stream",
       "stream": "stdout",
       "text": [
        " ACF Nationals 1997 q: 304 p: 19\n",
        "\t"
       ]
      },
      {
       "output_type": "stream",
       "stream": "stdout",
       "text": [
        "0 found 3983\n",
        "0"
       ]
      },
      {
       "output_type": "stream",
       "stream": "stdout",
       "text": [
        " Ladue Invitational Spring Tournament (LIST) IV 2014 q: 301 p: 15\n",
        "\t"
       ]
      },
      {
       "output_type": "stream",
       "stream": "stdout",
       "text": [
        "10 found 3983\n",
        "0"
       ]
      },
      {
       "output_type": "stream",
       "stream": "stdout",
       "text": [
        " University of Georgia Classic City Classic 2009 q: 213 p: 13\n",
        "\t"
       ]
      },
      {
       "output_type": "stream",
       "stream": "stdout",
       "text": [
        "2 found 3983\n",
        "0"
       ]
      },
      {
       "output_type": "stream",
       "stream": "stdout",
       "text": [
        " No Name Tournament 2008 q: 34 p: 10\n",
        "0"
       ]
      },
      {
       "output_type": "stream",
       "stream": "stdout",
       "text": [
        " Prison Bowl 2013 q: 265 p: 16\n",
        "\t"
       ]
      },
      {
       "output_type": "stream",
       "stream": "stdout",
       "text": [
        "0 found 4248\n",
        "0"
       ]
      },
      {
       "output_type": "stream",
       "stream": "stdout",
       "text": [
        " Chicago Open History Doubles 2006 q: 163 p: 10\n",
        "\t"
       ]
      },
      {
       "output_type": "stream",
       "stream": "stdout",
       "text": [
        "0 found 4411\n",
        "0"
       ]
      },
      {
       "output_type": "stream",
       "stream": "stdout",
       "text": [
        " QUARK 2012 q: 258 p: 14\n",
        "\t"
       ]
      },
      {
       "output_type": "stream",
       "stream": "stdout",
       "text": [
        "0 found 4669\n",
        "0"
       ]
      },
      {
       "output_type": "stream",
       "stream": "stdout",
       "text": [
        " Chicago Open 2008 q: 283 p: 19\n",
        "\t"
       ]
      },
      {
       "output_type": "stream",
       "stream": "stdout",
       "text": [
        "0 found 4952\n",
        "0"
       ]
      },
      {
       "output_type": "stream",
       "stream": "stdout",
       "text": [
        " Mildly Experimental Literature Doubles (MELD) 2010 q: 185 p: 10\n",
        "\t"
       ]
      },
      {
       "output_type": "stream",
       "stream": "stdout",
       "text": [
        "10 found 4952\n",
        "skipped 401 ACF Nationals 2004\n",
        "0"
       ]
      },
      {
       "output_type": "stream",
       "stream": "stdout",
       "text": [
        " Sun 'n' Fun 2008 q: 97 p: 12\n",
        "\t"
       ]
      },
      {
       "output_type": "stream",
       "stream": "stdout",
       "text": [
        "0 found 5049\n",
        "0"
       ]
      },
      {
       "output_type": "stream",
       "stream": "stdout",
       "text": [
        " Illinois Novice 2000 q: 255 p: 14\n",
        "\t"
       ]
      },
      {
       "output_type": "stream",
       "stream": "stdout",
       "text": [
        "0 found 5304\n",
        "skipped 330 FICHTE 2009\n",
        "0"
       ]
      },
      {
       "output_type": "stream",
       "stream": "stdout",
       "text": [
        " Minnesota Undergraduate Tournament 2013 q: 268 p: 14\n",
        "\t"
       ]
      },
      {
       "output_type": "stream",
       "stream": "stdout",
       "text": [
        "10 found 5304\n",
        "skipped"
       ]
      },
      {
       "output_type": "stream",
       "stream": "stdout",
       "text": [
        " 360 ACF Regionals 2012\n",
        "0"
       ]
      },
      {
       "output_type": "stream",
       "stream": "stdout",
       "text": [
        " FICHTE 2008 q: 428 p: 18\n",
        "\t"
       ]
      },
      {
       "output_type": "stream",
       "stream": "stdout",
       "text": [
        "0 found 5732\n",
        "0"
       ]
      },
      {
       "output_type": "stream",
       "stream": "stdout",
       "text": [
        " University of Florida Fall Tournament 2004 q: 18 p: 12\n",
        "0"
       ]
      },
      {
       "output_type": "stream",
       "stream": "stdout",
       "text": [
        " Boston Summer Open 1999 q: 0 p: 1\n",
        "0"
       ]
      },
      {
       "output_type": "stream",
       "stream": "stdout",
       "text": [
        " New Trier Scobol Solo 2004 q: 17 p: 16\n",
        "0"
       ]
      },
      {
       "output_type": "stream",
       "stream": "stdout",
       "text": [
        " Maryland Spring Classic 2007 q: 218 p: 14\n",
        "\t"
       ]
      },
      {
       "output_type": "stream",
       "stream": "stdout",
       "text": [
        "0 found 5950\n",
        "skipped"
       ]
      },
      {
       "output_type": "stream",
       "stream": "stdout",
       "text": [
        " 321 DRAGOON 2013\n",
        "0"
       ]
      },
      {
       "output_type": "stream",
       "stream": "stdout",
       "text": [
        " MLK 2007 q: 217 p: 13\n",
        "\t"
       ]
      },
      {
       "output_type": "stream",
       "stream": "stdout",
       "text": [
        "0 found 6167\n",
        "skipped"
       ]
      },
      {
       "output_type": "stream",
       "stream": "stdout",
       "text": [
        " 397 ACF Fall 2005\n",
        "0"
       ]
      },
      {
       "output_type": "stream",
       "stream": "stdout",
       "text": [
        " Gunpei Yokoi Memorial Open (side event) 2008 q: 83 p: 6\n",
        "\t"
       ]
      },
      {
       "output_type": "stream",
       "stream": "stdout",
       "text": [
        "0 found 6250\n",
        "skipped"
       ]
      },
      {
       "output_type": "stream",
       "stream": "stdout",
       "text": [
        " 336 ACF Fall 2001\n",
        "0"
       ]
      },
      {
       "output_type": "stream",
       "stream": "stdout",
       "text": [
        " St. Louis Open 2001 q: 252 p: 15\n",
        "\t"
       ]
      },
      {
       "output_type": "stream",
       "stream": "stdout",
       "text": [
        "0 found 6502\n",
        "0"
       ]
      },
      {
       "output_type": "stream",
       "stream": "stdout",
       "text": [
        " Maryland Fall Classic 2006 q: 26 p: 13\n",
        "0"
       ]
      },
      {
       "output_type": "stream",
       "stream": "stdout",
       "text": [
        " Mahfouz Memorial Literature Singles 2009 q: 191 p: 9\n",
        "\t"
       ]
      },
      {
       "output_type": "stream",
       "stream": "stdout",
       "text": [
        "10 found 6502\n",
        "0"
       ]
      },
      {
       "output_type": "stream",
       "stream": "stdout",
       "text": [
        " Lederberg Memorial Science Tournament 2: Daughter Cell 2014 q: 84 p: 10\n",
        "\t"
       ]
      },
      {
       "output_type": "stream",
       "stream": "stdout",
       "text": [
        "0 found 6586\n",
        "0"
       ]
      },
      {
       "output_type": "stream",
       "stream": "stdout",
       "text": [
        " Collaborative Middle School Tournament #2 2011 q: 161 p: 10\n",
        "\t"
       ]
      },
      {
       "output_type": "stream",
       "stream": "stdout",
       "text": [
        "7 found 6586\n",
        "0"
       ]
      },
      {
       "output_type": "stream",
       "stream": "stdout",
       "text": [
        " Terrapin Invitational Tournament 2005 q: 301 p: 15\n",
        "\t"
       ]
      },
      {
       "output_type": "stream",
       "stream": "stdout",
       "text": [
        "0 found 6887\n",
        "skipped"
       ]
      },
      {
       "output_type": "stream",
       "stream": "stdout",
       "text": [
        " 288 PACE NSC 2012\n",
        "skipped"
       ]
      },
      {
       "output_type": "stream",
       "stream": "stdout",
       "text": [
        " 63 VCU Open 2011\n",
        "0"
       ]
      },
      {
       "output_type": "stream",
       "stream": "stdout",
       "text": [
        " NHBB College Nationals 2012 q: 237 p: 15\n",
        "\t"
       ]
      },
      {
       "output_type": "stream",
       "stream": "stdout",
       "text": [
        "0 found 7124\n",
        "0"
       ]
      },
      {
       "output_type": "stream",
       "stream": "stdout",
       "text": [
        " Virginia J'ACCUSE! 2005 q: 247 p: 15\n",
        "\t"
       ]
      },
      {
       "output_type": "stream",
       "stream": "stdout",
       "text": [
        "0 found 7371\n",
        "0"
       ]
      },
      {
       "output_type": "stream",
       "stream": "stdout",
       "text": [
        " Dunbar Academic Fall Tournament 2009 q: 222 p: 12\n",
        "\t"
       ]
      },
      {
       "output_type": "stream",
       "stream": "stdout",
       "text": [
        "10 found 7371\n",
        "0"
       ]
      },
      {
       "output_type": "stream",
       "stream": "stdout",
       "text": [
        " Illinois Novice 2001 q: 247 p: 15\n",
        "\t"
       ]
      },
      {
       "output_type": "stream",
       "stream": "stdout",
       "text": [
        "0 found 7618\n",
        "0"
       ]
      },
      {
       "output_type": "stream",
       "stream": "stdout",
       "text": [
        " MAGNI 2011 q: 278 p: 14\n",
        "\t"
       ]
      },
      {
       "output_type": "stream",
       "stream": "stdout",
       "text": [
        "0 found 7896\n",
        "skipped 391 ACF Nationals 2003\n",
        "skipped"
       ]
      },
      {
       "output_type": "stream",
       "stream": "stdout",
       "text": [
        " 388 ACF Fall 2008\n",
        "0"
       ]
      },
      {
       "output_type": "stream",
       "stream": "stdout",
       "text": [
        " BHSAT 2011 q: 169 p: 12\n",
        "\t"
       ]
      },
      {
       "output_type": "stream",
       "stream": "stdout",
       "text": [
        "0 found 8065\n",
        "0"
       ]
      },
      {
       "output_type": "stream",
       "stream": "stdout",
       "text": [
        " Penn Bowl 2002 q: 281 p: 30\n",
        "\t"
       ]
      },
      {
       "output_type": "stream",
       "stream": "stdout",
       "text": [
        "0 found 8346\n",
        "0"
       ]
      },
      {
       "output_type": "stream",
       "stream": "stdout",
       "text": [
        " Minnesota Open Lederberg Memorial Science Tournament 2009 q: 103 p: 8\n",
        "\t"
       ]
      },
      {
       "output_type": "stream",
       "stream": "stdout",
       "text": [
        "0 found 8449\n",
        "skipped"
       ]
      },
      {
       "output_type": "stream",
       "stream": "stdout",
       "text": [
        " 501 ACF Nationals 1999\n",
        "0"
       ]
      },
      {
       "output_type": "stream",
       "stream": "stdout",
       "text": [
        " New Trier Scobol Solo 2005 q: 22 p: 17\n",
        "0"
       ]
      },
      {
       "output_type": "stream",
       "stream": "stdout",
       "text": [
        " Minnesota Open Lit: An Encounter 2008 q: 0 p: 10\n",
        "0"
       ]
      },
      {
       "output_type": "stream",
       "stream": "stdout",
       "text": [
        " Science Monstrosity 2004 q: 151 p: 10\n",
        "\t"
       ]
      },
      {
       "output_type": "stream",
       "stream": "stdout",
       "text": [
        "0 found 8600\n",
        "0"
       ]
      },
      {
       "output_type": "stream",
       "stream": "stdout",
       "text": [
        " OLEFIN 2011 q: 196 p: 13\n",
        "\t"
       ]
      },
      {
       "output_type": "stream",
       "stream": "stdout",
       "text": [
        "0 found 8796\n",
        "0"
       ]
      },
      {
       "output_type": "stream",
       "stream": "stdout",
       "text": [
        " MOHIT (Thomas Jefferson) 2009 q: 221 p: 12\n",
        "\t"
       ]
      },
      {
       "output_type": "stream",
       "stream": "stdout",
       "text": [
        "0 found 9017\n",
        "0"
       ]
      },
      {
       "output_type": "stream",
       "stream": "stdout",
       "text": [
        " VCU Open 2009 q: 223 p: 13\n",
        "\t"
       ]
      },
      {
       "output_type": "stream",
       "stream": "stdout",
       "text": [
        "0 found 9240\n",
        "0"
       ]
      },
      {
       "output_type": "stream",
       "stream": "stdout",
       "text": [
        " MLK 2006 q: 189 p: 11\n",
        "\t"
       ]
      },
      {
       "output_type": "stream",
       "stream": "stdout",
       "text": [
        "0 found 9429\n",
        "0"
       ]
      },
      {
       "output_type": "stream",
       "stream": "stdout",
       "text": [
        " WUHSAC XI 2009 q: 126 p: 9\n",
        "\t"
       ]
      },
      {
       "output_type": "stream",
       "stream": "stdout",
       "text": [
        "0 found 9555\n",
        "0"
       ]
      },
      {
       "output_type": "stream",
       "stream": "stdout",
       "text": [
        " BHSAT 2012 q: 245 p: 13\n",
        "\t"
       ]
      },
      {
       "output_type": "stream",
       "stream": "stdout",
       "text": [
        "0 found 9800\n",
        "0"
       ]
      },
      {
       "output_type": "stream",
       "stream": "stdout",
       "text": [
        " History Doubles at Chicago Open 2012 q: 313 p: 18\n",
        "\t"
       ]
      },
      {
       "output_type": "stream",
       "stream": "stdout",
       "text": [
        "0 found 10113\n",
        "skipped 357 ACF Fall 2009\n",
        "0"
       ]
      },
      {
       "output_type": "stream",
       "stream": "stdout",
       "text": [
        " ACF Regionals 1998 q: 500 p: 20\n",
        "\t"
       ]
      },
      {
       "output_type": "stream",
       "stream": "stdout",
       "text": [
        "0 found 10613\n",
        "0"
       ]
      },
      {
       "output_type": "stream",
       "stream": "stdout",
       "text": [
        " Ohio State/VCU housewrite 2012 q: 241 p: 13\n",
        "\t"
       ]
      },
      {
       "output_type": "stream",
       "stream": "stdout",
       "text": [
        "0 found 10854\n",
        "0"
       ]
      },
      {
       "output_type": "stream",
       "stream": "stdout",
       "text": [
        " The New Tournament at Cornell 2003 q: 157 p: 16\n",
        "\t"
       ]
      },
      {
       "output_type": "stream",
       "stream": "stdout",
       "text": [
        "0 found 11011\n",
        "skipped 374 ACF Nationals 2008\n",
        "0"
       ]
      },
      {
       "output_type": "stream",
       "stream": "stdout",
       "text": [
        " Virginia Open 1998 q: 219 p: 13\n",
        "\t"
       ]
      },
      {
       "output_type": "stream",
       "stream": "stdout",
       "text": [
        "0 found 11230\n",
        "0"
       ]
      },
      {
       "output_type": "stream",
       "stream": "stdout",
       "text": [
        " Kentucky Wildcat 2002 q: 300 p: 14\n",
        "\t"
       ]
      },
      {
       "output_type": "stream",
       "stream": "stdout",
       "text": [
        "0 found 11530\n",
        "skipped 396 Chicago Open 2013\n",
        "0"
       ]
      },
      {
       "output_type": "stream",
       "stream": "stdout",
       "text": [
        " Maggie Walker GSAC XIX 2011 q: 175 p: 12\n",
        "\t"
       ]
      },
      {
       "output_type": "stream",
       "stream": "stdout",
       "text": [
        "1 found 11705\n",
        "skipped 557 ACF Nationals 2010\n",
        "0"
       ]
      },
      {
       "output_type": "stream",
       "stream": "stdout",
       "text": [
        " Chicago Open Lit 2008 q: 235 p: 12\n",
        "\t"
       ]
      },
      {
       "output_type": "stream",
       "stream": "stdout",
       "text": [
        "9 found 11705\n",
        "0"
       ]
      },
      {
       "output_type": "stream",
       "stream": "stdout",
       "text": [
        " Maggie Walker GSAC XV 2007 q: 165 p: 20\n",
        "\t"
       ]
      },
      {
       "output_type": "stream",
       "stream": "stdout",
       "text": [
        "0 found 11870\n",
        "0"
       ]
      },
      {
       "output_type": "stream",
       "stream": "stdout",
       "text": [
        " Terrapin Invitational Tournament 2011 q: 273 p: 14\n",
        "\t"
       ]
      },
      {
       "output_type": "stream",
       "stream": "stdout",
       "text": [
        "10 found 11870\n",
        "skipped 297 Prison Bowl 2010\n",
        "0"
       ]
      },
      {
       "output_type": "stream",
       "stream": "stdout",
       "text": [
        " Ladue Invitational Spring Tournament 2012 q: 320 p: 16\n",
        "\t"
       ]
      },
      {
       "output_type": "stream",
       "stream": "stdout",
       "text": [
        "0 found 12190\n",
        "0"
       ]
      },
      {
       "output_type": "stream",
       "stream": "stdout",
       "text": [
        " Michigan Manu Ginobili Open 2005 q: 274 p: 16\n",
        "\t"
       ]
      },
      {
       "output_type": "stream",
       "stream": "stdout",
       "text": [
        "0 found 12464\n",
        "0"
       ]
      },
      {
       "output_type": "stream",
       "stream": "stdout",
       "text": [
        " Centennial (MD) Housewrite 2011 q: 144 p: 9\n",
        "\t"
       ]
      },
      {
       "output_type": "stream",
       "stream": "stdout",
       "text": [
        "0 found 12608\n",
        "0"
       ]
      },
      {
       "output_type": "stream",
       "stream": "stdout",
       "text": [
        " BHSAT 2010 q: 212 p: 12\n",
        "\t"
       ]
      },
      {
       "output_type": "stream",
       "stream": "stdout",
       "text": [
        "0 found 12820\n",
        "skipped 335 ACF Regionals 2013\n",
        "0"
       ]
      },
      {
       "output_type": "stream",
       "stream": "stdout",
       "text": [
        " Quaker Academic Competition (QuAC) 2008 q: 159 p: 12\n",
        "\t"
       ]
      },
      {
       "output_type": "stream",
       "stream": "stdout",
       "text": [
        "10 found 12820\n",
        "skipped 384 ACF Fall 2007\n",
        "0"
       ]
      },
      {
       "output_type": "stream",
       "stream": "stdout",
       "text": [
        " JAMES 2013 q: 311 p: 16\n",
        "\t"
       ]
      },
      {
       "output_type": "stream",
       "stream": "stdout",
       "text": [
        "0 found 13131\n",
        "0"
       ]
      },
      {
       "output_type": "stream",
       "stream": "stdout",
       "text": [
        " Walton Academic Challenge 2005 q: 0 p: 1\n",
        "0"
       ]
      },
      {
       "output_type": "stream",
       "stream": "stdout",
       "text": [
        " VETO 2012 q: 144 p: 11\n",
        "\t"
       ]
      },
      {
       "output_type": "stream",
       "stream": "stdout",
       "text": [
        "0 found 13275\n",
        "0"
       ]
      },
      {
       "output_type": "stream",
       "stream": "stdout",
       "text": [
        " Illinois Earlybird 2006 q: 141 p: 10\n",
        "\t"
       ]
      },
      {
       "output_type": "stream",
       "stream": "stdout",
       "text": [
        "0 found 13416\n",
        "0"
       ]
      },
      {
       "output_type": "stream",
       "stream": "stdout",
       "text": [
        " WUHSAC IX 2007 q: 124 p: 10\n",
        "\t"
       ]
      },
      {
       "output_type": "stream",
       "stream": "stdout",
       "text": [
        "1 found 13540\n",
        "0"
       ]
      },
      {
       "output_type": "stream",
       "stream": "stdout",
       "text": [
        " Penn Bowl 2013 q: 187 p: 14\n",
        "\t"
       ]
      },
      {
       "output_type": "stream",
       "stream": "stdout",
       "text": [
        "0 found 13727\n",
        "0"
       ]
      },
      {
       "output_type": "stream",
       "stream": "stdout",
       "text": [
        " Aztlan Cup II/Brown UTT/UNC AWET 2006 q: 231 p: 12\n",
        "\t"
       ]
      },
      {
       "output_type": "stream",
       "stream": "stdout",
       "text": [
        "0 found 13958\n",
        "0"
       ]
      },
      {
       "output_type": "stream",
       "stream": "stdout",
       "text": [
        " Jacopo Pontormo (history tournament) 2005 q: 367 p: 15\n",
        "\t"
       ]
      },
      {
       "output_type": "stream",
       "stream": "stdout",
       "text": [
        "0 found 14325\n",
        "skipped 398 ACF Regionals 2008\n",
        "0"
       ]
      },
      {
       "output_type": "stream",
       "stream": "stdout",
       "text": [
        " WELD 2012 q: 203 p: 12\n",
        "\t"
       ]
      },
      {
       "output_type": "stream",
       "stream": "stdout",
       "text": [
        "0 found 14528\n",
        "0"
       ]
      },
      {
       "output_type": "stream",
       "stream": "stdout",
       "text": [
        " Chicago Open 2000 q: 309 p: 17\n",
        "\t"
       ]
      },
      {
       "output_type": "stream",
       "stream": "stdout",
       "text": [
        "0 found 14837\n",
        "0"
       ]
      },
      {
       "output_type": "stream",
       "stream": "stdout",
       "text": [
        " Terrapin Invitational Tournament 1998 q: 240 p: 15\n",
        "\t"
       ]
      },
      {
       "output_type": "stream",
       "stream": "stdout",
       "text": [
        "0 found 15077\n",
        "0"
       ]
      },
      {
       "output_type": "stream",
       "stream": "stdout",
       "text": [
        " FKT 2013 q: 247 p: 12\n",
        "\t"
       ]
      },
      {
       "output_type": "stream",
       "stream": "stdout",
       "text": [
        "0 found 15324\n",
        "0"
       ]
      },
      {
       "output_type": "stream",
       "stream": "stdout",
       "text": [
        " Kentucky Wildcat 2001 q: 251 p: 13\n",
        "\t"
       ]
      },
      {
       "output_type": "stream",
       "stream": "stdout",
       "text": [
        "0 found 15575\n",
        "0"
       ]
      },
      {
       "output_type": "stream",
       "stream": "stdout",
       "text": [
        " PACE Spring Qualifier 2008 q: 0 p: 12\n",
        "skipped 95 ICCS 2014\n",
        "0"
       ]
      },
      {
       "output_type": "stream",
       "stream": "stdout",
       "text": [
        " New Trier Varsity 2009 q: 216 p: 26\n",
        "\t"
       ]
      },
      {
       "output_type": "stream",
       "stream": "stdout",
       "text": [
        "10 found 15575\n",
        "skipped 368 ACF Nationals 2006\n",
        "skipped"
       ]
      },
      {
       "output_type": "stream",
       "stream": "stdout",
       "text": [
        " 322 Penn Bowl 2010\n",
        "0"
       ]
      },
      {
       "output_type": "stream",
       "stream": "stdout",
       "text": [
        " HAVOC II 2009 q: 217 p: 12\n",
        "\t"
       ]
      },
      {
       "output_type": "stream",
       "stream": "stdout",
       "text": [
        "0 found 15792\n",
        "0"
       ]
      },
      {
       "output_type": "stream",
       "stream": "stdout",
       "text": [
        " Harvard Fall Tournament 2010 q: 304 p: 17\n",
        "\t"
       ]
      },
      {
       "output_type": "stream",
       "stream": "stdout",
       "text": [
        "0 found 16096\n",
        "0"
       ]
      },
      {
       "output_type": "stream",
       "stream": "stdout",
       "text": [
        " Geography Monstrosity 2009 q: 105 p: 7\n",
        "\t"
       ]
      },
      {
       "output_type": "stream",
       "stream": "stdout",
       "text": [
        "0 found 16201\n",
        "0"
       ]
      },
      {
       "output_type": "stream",
       "stream": "stdout",
       "text": [
        " Schindler's Lit 2013 q: 136 p: 8\n",
        "\t"
       ]
      },
      {
       "output_type": "stream",
       "stream": "stdout",
       "text": [
        "0 found 16337\n",
        "0"
       ]
      },
      {
       "output_type": "stream",
       "stream": "stdout",
       "text": [
        " VCU Closed 2013 q: 327 p: 18\n",
        "\t"
       ]
      },
      {
       "output_type": "stream",
       "stream": "stdout",
       "text": [
        "0 found 16664\n",
        "skipped"
       ]
      },
      {
       "output_type": "stream",
       "stream": "stdout",
       "text": [
        " 495 ACF Nationals 2009\n",
        "0"
       ]
      },
      {
       "output_type": "stream",
       "stream": "stdout",
       "text": [
        " Early Autumn Collegiate Novice 2012 q: 141 p: 10\n",
        "\t"
       ]
      },
      {
       "output_type": "stream",
       "stream": "stdout",
       "text": [
        "10 found 16664\n",
        "0"
       ]
      },
      {
       "output_type": "stream",
       "stream": "stdout",
       "text": [
        " LIST 2013 q: 338 p: 16\n",
        "\t"
       ]
      },
      {
       "output_type": "stream",
       "stream": "stdout",
       "text": [
        "0 found 17002\n",
        "skipped 320 ACF Fall 2002\n",
        "0"
       ]
      },
      {
       "output_type": "stream",
       "stream": "stdout",
       "text": [
        " Maryland Spring Classic 2005 q: 115 p: 13\n",
        "\t"
       ]
      },
      {
       "output_type": "stream",
       "stream": "stdout",
       "text": [
        "0 found 17117\n",
        "skipped 371 ACF Regionals 2004\n",
        "skipped"
       ]
      },
      {
       "output_type": "stream",
       "stream": "stdout",
       "text": [
        " 451 ACF Regionals 2000\n",
        "0"
       ]
      },
      {
       "output_type": "stream",
       "stream": "stdout",
       "text": [
        " IMSANITY 3 2013 q: 246 p: 15\n",
        "\t"
       ]
      },
      {
       "output_type": "stream",
       "stream": "stdout",
       "text": [
        "0 found 17363\n",
        "skipped 407 ACF Fall 2013\n",
        "0"
       ]
      },
      {
       "output_type": "stream",
       "stream": "stdout",
       "text": [
        " Early Fall Tournament (EFT) 2007 q: 271 p: 14\n",
        "\t"
       ]
      },
      {
       "output_type": "stream",
       "stream": "stdout",
       "text": [
        "0 found 17634\n",
        "0"
       ]
      },
      {
       "output_type": "stream",
       "stream": "stdout",
       "text": [
        " Prison Bowl 2014 q: 211 p: 15\n",
        "\t"
       ]
      },
      {
       "output_type": "stream",
       "stream": "stdout",
       "text": [
        "0 found 17845\n",
        "0"
       ]
      },
      {
       "output_type": "stream",
       "stream": "stdout",
       "text": [
        " Penn Bowl 2008 q: 303 p: 16\n",
        "\t"
       ]
      },
      {
       "output_type": "stream",
       "stream": "stdout",
       "text": [
        "0 found 18148\n",
        "0"
       ]
      },
      {
       "output_type": "stream",
       "stream": "stdout",
       "text": [
        " Maggie Walker GSAC XVII 2009 q: 219 p: 12\n",
        "\t"
       ]
      },
      {
       "output_type": "stream",
       "stream": "stdout",
       "text": [
        "10 found 18148\n",
        "0"
       ]
      },
      {
       "output_type": "stream",
       "stream": "stdout",
       "text": [
        " Chicago Open 2003 q: 161 p: 15\n",
        "\t"
       ]
      },
      {
       "output_type": "stream",
       "stream": "stdout",
       "text": [
        "0 found 18309\n",
        "0"
       ]
      },
      {
       "output_type": "stream",
       "stream": "stdout",
       "text": [
        " Illinois Fall Tournament None q: 254 p: 15\n",
        "\t"
       ]
      },
      {
       "output_type": "stream",
       "stream": "stdout",
       "text": [
        "0 found 18563\n",
        "0"
       ]
      },
      {
       "output_type": "stream",
       "stream": "stdout",
       "text": [
        " New Trier Scobol Solo 2006 q: 35 p: 16\n",
        "skipped 390 ACF Nationals 2002\n",
        "0"
       ]
      },
      {
       "output_type": "stream",
       "stream": "stdout",
       "text": [
        " Collaborative Middle School Tournament #4 2013 q: 162 p: 10\n",
        "\t"
       ]
      },
      {
       "output_type": "stream",
       "stream": "stdout",
       "text": [
        "10 found 18563\n",
        "skipped 390 ACF Nationals 2002\n",
        "0"
       ]
      },
      {
       "output_type": "stream",
       "stream": "stdout",
       "text": [
        " Illinois Earlybird 2005 q: 121 p: 11\n",
        "\t"
       ]
      },
      {
       "output_type": "stream",
       "stream": "stdout",
       "text": [
        "0 found 18684\n",
        "0"
       ]
      },
      {
       "output_type": "stream",
       "stream": "stdout",
       "text": [
        " Fall Novice Tournament 2009 q: 241 p: 12\n",
        "\t"
       ]
      },
      {
       "output_type": "stream",
       "stream": "stdout",
       "text": [
        "9 found 18684\n",
        "skipped"
       ]
      },
      {
       "output_type": "stream",
       "stream": "stdout",
       "text": [
        " 305 Cane Ridge Revival 2014\n",
        "0"
       ]
      },
      {
       "output_type": "stream",
       "stream": "stdout",
       "text": [
        " RAVE 2012 q: 242 p: 13\n",
        "\t"
       ]
      },
      {
       "output_type": "stream",
       "stream": "stdout",
       "text": [
        "0 found 18926\n",
        "skipped"
       ]
      },
      {
       "output_type": "stream",
       "stream": "stdout",
       "text": [
        " 343 ACF Regionals 2014\n",
        "skipped 173 Prison Bowl 2008\n",
        "0"
       ]
      },
      {
       "output_type": "stream",
       "stream": "stdout",
       "text": [
        " Chicago Open 2007 q: 232 p: 14\n",
        "\t"
       ]
      },
      {
       "output_type": "stream",
       "stream": "stdout",
       "text": [
        "0 found 19158\n",
        "skipped 336 MUT 2012\n",
        "0"
       ]
      },
      {
       "output_type": "stream",
       "stream": "stdout",
       "text": [
        " New Trier Scobol Solo 2012 q: 304 p: 16\n",
        "\t"
       ]
      },
      {
       "output_type": "stream",
       "stream": "stdout",
       "text": [
        "0 found 19462\n",
        "0"
       ]
      },
      {
       "output_type": "stream",
       "stream": "stdout",
       "text": [
        " Titanomachy 2007 q: 218 p: 13\n",
        "\t"
       ]
      },
      {
       "output_type": "stream",
       "stream": "stdout",
       "text": [
        "0 found 19680\n",
        "skipped"
       ]
      },
      {
       "output_type": "stream",
       "stream": "stdout",
       "text": [
        " 106 Geography Monstrosity 2 2010\n",
        "0"
       ]
      },
      {
       "output_type": "stream",
       "stream": "stdout",
       "text": [
        " Terrapin Invitational Tournament 2006 q: 190 p: 10\n",
        "\t"
       ]
      },
      {
       "output_type": "stream",
       "stream": "stdout",
       "text": [
        "0 found 19870\n",
        "0"
       ]
      },
      {
       "output_type": "stream",
       "stream": "stdout",
       "text": [
        " Vanderbilt ABC/2011 VCU Winter 2010 q: 229 p: 13\n",
        "\t"
       ]
      },
      {
       "output_type": "stream",
       "stream": "stdout",
       "text": [
        "0 found 20099\n",
        "0"
       ]
      },
      {
       "output_type": "stream",
       "stream": "stdout",
       "text": [
        " Geography Monstrosity 6 2014 q: 36 p: 1\n",
        "0"
       ]
      },
      {
       "output_type": "stream",
       "stream": "stdout",
       "text": [
        " Chicago Open 2004 q: 175 p: 16\n",
        "\t"
       ]
      },
      {
       "output_type": "stream",
       "stream": "stdout",
       "text": [
        "0 found 20274\n",
        "skipped"
       ]
      },
      {
       "output_type": "stream",
       "stream": "stdout",
       "text": [
        " 120 PACE NSC 2013\n",
        "skipped"
       ]
      },
      {
       "output_type": "stream",
       "stream": "stdout",
       "text": [
        " 485 PACE NSC 2010\n",
        "0"
       ]
      },
      {
       "output_type": "stream",
       "stream": "stdout",
       "text": [
        " Crusader Cup 2005 q: 88 p: 8\n",
        "\t"
       ]
      },
      {
       "output_type": "stream",
       "stream": "stdout",
       "text": [
        "0 found 20362\n",
        "0"
       ]
      },
      {
       "output_type": "stream",
       "stream": "stdout",
       "text": [
        " Fall Kickoff Tournament (FKT) 2010 q: 141 p: 9\n",
        "\t"
       ]
      },
      {
       "output_type": "stream",
       "stream": "stdout",
       "text": [
        "6 found 20362\n",
        "0"
       ]
      },
      {
       "output_type": "stream",
       "stream": "stdout",
       "text": [
        " Angels in the Architecture 2013 q: 100 p: 6\n",
        "\t"
       ]
      },
      {
       "output_type": "stream",
       "stream": "stdout",
       "text": [
        "0 found 20462\n",
        "skipped"
       ]
      },
      {
       "output_type": "stream",
       "stream": "stdout",
       "text": [
        " 315 SUBMIT 2014\n",
        "0"
       ]
      },
      {
       "output_type": "stream",
       "stream": "stdout",
       "text": [
        " Geography Monstrosity 4 2012 q: 49 p: 1\n",
        "\t"
       ]
      },
      {
       "output_type": "stream",
       "stream": "stdout",
       "text": [
        "0 found 20511\n",
        "0"
       ]
      },
      {
       "output_type": "stream",
       "stream": "stdout",
       "text": [
        " SCOP Novice 2010 q: 239 p: 13\n",
        "\t"
       ]
      },
      {
       "output_type": "stream",
       "stream": "stdout",
       "text": [
        "0 found 20750\n",
        "0"
       ]
      },
      {
       "output_type": "stream",
       "stream": "stdout",
       "text": [
        " Science Monstrosity 2005 q: 113 p: 6\n",
        "\t"
       ]
      },
      {
       "output_type": "stream",
       "stream": "stdout",
       "text": [
        "0 found 20863\n",
        "0"
       ]
      },
      {
       "output_type": "stream",
       "stream": "stdout",
       "text": [
        " Kentucky Wildcat 2003 q: 227 p: 13\n",
        "\t"
       ]
      },
      {
       "output_type": "stream",
       "stream": "stdout",
       "text": [
        "0 found 21090\n",
        "0"
       ]
      },
      {
       "output_type": "stream",
       "stream": "stdout",
       "text": [
        " Speedway Shootout 2006 q: 0 p: 8\n",
        "0"
       ]
      },
      {
       "output_type": "stream",
       "stream": "stdout",
       "text": [
        " BHSAT 2014 q: 258 p: 15\n",
        "\t"
       ]
      },
      {
       "output_type": "stream",
       "stream": "stdout",
       "text": [
        "0 found 21348\n",
        "0"
       ]
      },
      {
       "output_type": "stream",
       "stream": "stdout",
       "text": [
        " Minnesota Open 2008 q: 303 p: 17\n",
        "\t"
       ]
      },
      {
       "output_type": "stream",
       "stream": "stdout",
       "text": [
        "0 found 21651\n",
        "skipped 321 DRAGOON 2013\n",
        "0"
       ]
      },
      {
       "output_type": "stream",
       "stream": "stdout",
       "text": [
        " Cardinal Classic XVII 2008 q: 210 p: 14\n",
        "\t"
       ]
      },
      {
       "output_type": "stream",
       "stream": "stdout",
       "text": [
        "0 found 21861\n",
        "0"
       ]
      },
      {
       "output_type": "stream",
       "stream": "stdout",
       "text": [
        " New Trier Scobol Solo 2002 q: 0 p: 16\n",
        "0"
       ]
      },
      {
       "output_type": "stream",
       "stream": "stdout",
       "text": [
        " ANFORTAS None q: 195 p: 9\n",
        "\t"
       ]
      },
      {
       "output_type": "stream",
       "stream": "stdout",
       "text": [
        "0 found 22056\n",
        "0"
       ]
      },
      {
       "output_type": "stream",
       "stream": "stdout",
       "text": [
        " Mavis Gallant Memorial Tournament (Literature) 2014 q: 78 p: 4\n",
        "\t"
       ]
      },
      {
       "output_type": "stream",
       "stream": "stdout",
       "text": [
        "0 found 22134\n",
        "0"
       ]
      },
      {
       "output_type": "stream",
       "stream": "stdout",
       "text": [
        " New Trier Scobol Solo 2007 q: 33 p: 16\n",
        "0"
       ]
      },
      {
       "output_type": "stream",
       "stream": "stdout",
       "text": [
        " Illinois Open/(Fall) Terrapin Invitational 2009 q: 255 p: 14\n",
        "\t"
       ]
      },
      {
       "output_type": "stream",
       "stream": "stdout",
       "text": [
        "0 found 22389\n",
        "0"
       ]
      },
      {
       "output_type": "stream",
       "stream": "stdout",
       "text": [
        " VCU Open 2013 q: 281 p: 15\n",
        "\t"
       ]
      },
      {
       "output_type": "stream",
       "stream": "stdout",
       "text": [
        "0 found 22670\n",
        "0"
       ]
      },
      {
       "output_type": "stream",
       "stream": "stdout",
       "text": [
        " College History Bowl 2014 q: 208 p: 16\n",
        "\t"
       ]
      },
      {
       "output_type": "stream",
       "stream": "stdout",
       "text": [
        "0 found 22878\n",
        "0"
       ]
      },
      {
       "output_type": "stream",
       "stream": "stdout",
       "text": [
        " Chicago Open Lit 2004 q: 374 p: 12\n",
        "\t"
       ]
      },
      {
       "output_type": "stream",
       "stream": "stdout",
       "text": [
        "0 found 23252\n",
        "0"
       ]
      },
      {
       "output_type": "stream",
       "stream": "stdout",
       "text": [
        " Chicago Open 2014 2013 q: 280 p: 18\n",
        "\t"
       ]
      },
      {
       "output_type": "stream",
       "stream": "stdout",
       "text": [
        "10 found 23252\n",
        "skipped 270 Prison Bowl 2011\n",
        "0"
       ]
      },
      {
       "output_type": "stream",
       "stream": "stdout",
       "text": [
        " Michigan Artaud 2001 q: 259 p: 15\n",
        "\t"
       ]
      },
      {
       "output_type": "stream",
       "stream": "stdout",
       "text": [
        "0 found 23511\n",
        "0"
       ]
      },
      {
       "output_type": "stream",
       "stream": "stdout",
       "text": [
        " Illinois Earlybird 2004 q: 158 p: 10\n",
        "\t"
       ]
      },
      {
       "output_type": "stream",
       "stream": "stdout",
       "text": [
        "0 found 23669\n",
        "0"
       ]
      },
      {
       "output_type": "stream",
       "stream": "stdout",
       "text": [
        " Harvard Fall Tournament 2009 q: 306 p: 15\n",
        "\t"
       ]
      },
      {
       "output_type": "stream",
       "stream": "stdout",
       "text": [
        "9 found 23669\n",
        "0"
       ]
      },
      {
       "output_type": "stream",
       "stream": "stdout",
       "text": [
        " The Experiment II 2008 q: 196 p: 10\n",
        "\t"
       ]
      },
      {
       "output_type": "stream",
       "stream": "stdout",
       "text": [
        "0 found 23865\n",
        "0"
       ]
      },
      {
       "output_type": "stream",
       "stream": "stdout",
       "text": [
        " St. Louis Open 2000 q: 268 p: 17\n",
        "\t"
       ]
      },
      {
       "output_type": "stream",
       "stream": "stdout",
       "text": [
        "0 found 24133\n",
        "0"
       ]
      },
      {
       "output_type": "stream",
       "stream": "stdout",
       "text": [
        " Virginia Wahoo War 1997 q: 227 p: 19\n",
        "\t"
       ]
      },
      {
       "output_type": "stream",
       "stream": "stdout",
       "text": [
        "0 found 24360\n",
        "0"
       ]
      },
      {
       "output_type": "stream",
       "stream": "stdout",
       "text": [
        " Chicago Open 2002 q: 177 p: 14\n",
        "\t"
       ]
      },
      {
       "output_type": "stream",
       "stream": "stdout",
       "text": [
        "0 found 24537\n",
        "0"
       ]
      },
      {
       "output_type": "stream",
       "stream": "stdout",
       "text": [
        " Maggie Walker GSAC XVIII 2010 q: 219 p: 12\n",
        "\t"
       ]
      },
      {
       "output_type": "stream",
       "stream": "stdout",
       "text": [
        "0 found 24756\n",
        "0"
       ]
      },
      {
       "output_type": "stream",
       "stream": "stdout",
       "text": [
        " Illinois Open 2005 q: 196 p: 13\n",
        "\t"
       ]
      },
      {
       "output_type": "stream",
       "stream": "stdout",
       "text": [
        "0 found 24952\n",
        "0"
       ]
      },
      {
       "output_type": "stream",
       "stream": "stdout",
       "text": [
        " IMSANITY 2011 q: 105 p: 7\n",
        "\t"
       ]
      },
      {
       "output_type": "stream",
       "stream": "stdout",
       "text": [
        "0 found 25057\n",
        "0"
       ]
      },
      {
       "output_type": "stream",
       "stream": "stdout",
       "text": [
        " Early Fall Tournament (EFT) 2008 q: 275 p: 14\n",
        "\t"
       ]
      },
      {
       "output_type": "stream",
       "stream": "stdout",
       "text": [
        "1 found 25332\n",
        "0"
       ]
      },
      {
       "output_type": "stream",
       "stream": "stdout",
       "text": [
        " Delta Burke 2013 2013 q: 222 p: 14\n",
        "\t"
       ]
      },
      {
       "output_type": "stream",
       "stream": "stdout",
       "text": [
        "0 found 25554\n",
        "0"
       ]
      },
      {
       "output_type": "stream",
       "stream": "stdout",
       "text": [
        " New Trier Scobol Solo 2001 q: 0 p: 16\n",
        "0"
       ]
      },
      {
       "output_type": "stream",
       "stream": "stdout",
       "text": [
        " Illinois Open 2004 q: 0 p: 14\n",
        "0"
       ]
      },
      {
       "output_type": "stream",
       "stream": "stdout",
       "text": [
        " Delta Burke 2007 q: 0 p: 6\n",
        "0"
       ]
      },
      {
       "output_type": "stream",
       "stream": "stdout",
       "text": [
        " Thomas Jefferson NAREN 2010 q: 269 p: 14\n",
        "\t"
       ]
      },
      {
       "output_type": "stream",
       "stream": "stdout",
       "text": [
        "11 found 25554\n",
        "0"
       ]
      },
      {
       "output_type": "stream",
       "stream": "stdout",
       "text": [
        " Minnesota Undergraduate Tournament (MUT) 2009 q: 231 p: 14\n",
        "\t"
       ]
      },
      {
       "output_type": "stream",
       "stream": "stdout",
       "text": [
        "10 found 25554\n",
        "0"
       ]
      },
      {
       "output_type": "stream",
       "stream": "stdout",
       "text": [
        " Chicago Open 2012 q: 275 p: 17\n",
        "\t"
       ]
      },
      {
       "output_type": "stream",
       "stream": "stdout",
       "text": [
        "0 found 25829\n",
        "0"
       ]
      },
      {
       "output_type": "stream",
       "stream": "stdout",
       "text": [
        " Illinois Open 2008 q: 276 p: 14\n",
        "\t"
       ]
      },
      {
       "output_type": "stream",
       "stream": "stdout",
       "text": [
        "0 found 26105\n",
        "skipped 297 Minnesota Open 2010\n",
        "skipped"
       ]
      },
      {
       "output_type": "stream",
       "stream": "stdout",
       "text": [
        " 348 ACF Regionals 2006\n",
        "0"
       ]
      },
      {
       "output_type": "stream",
       "stream": "stdout",
       "text": [
        " Matt Cvijanovich Memorial Novice Tournament 2008 q: 260 p: 14\n",
        "\t"
       ]
      },
      {
       "output_type": "stream",
       "stream": "stdout",
       "text": [
        "0 found 26365\n",
        "0"
       ]
      },
      {
       "output_type": "stream",
       "stream": "stdout",
       "text": [
        " PACE NSC 2000 q: 67 p: 11\n",
        "\t"
       ]
      },
      {
       "output_type": "stream",
       "stream": "stdout",
       "text": [
        "0 found 26432\n",
        "0"
       ]
      },
      {
       "output_type": "stream",
       "stream": "stdout",
       "text": [
        " Maryland Spring Classic 2010 q: 109 p: 11\n",
        "\t"
       ]
      },
      {
       "output_type": "stream",
       "stream": "stdout",
       "text": [
        "0 found 26541\n",
        "0"
       ]
      },
      {
       "output_type": "stream",
       "stream": "stdout",
       "text": [
        " PACE NSC 1999 q: 16 p: 14\n",
        "skipped"
       ]
      },
      {
       "output_type": "stream",
       "stream": "stdout",
       "text": [
        " 610 ACF Regionals 1999\n",
        "0"
       ]
      },
      {
       "output_type": "stream",
       "stream": "stdout",
       "text": [
        " Penn Bowl 2007 q: 262 p: 17\n",
        "\t"
       ]
      },
      {
       "output_type": "stream",
       "stream": "stdout",
       "text": [
        "1 found 26803\n",
        "0"
       ]
      },
      {
       "output_type": "stream",
       "stream": "stdout",
       "text": [
        " ACF Regionals 1997 q: 283 p: 15\n",
        "\t"
       ]
      },
      {
       "output_type": "stream",
       "stream": "stdout",
       "text": [
        "0 found 27086\n",
        "skipped 337 ACF Fall 2011\n",
        "skipped"
       ]
      },
      {
       "output_type": "stream",
       "stream": "stdout",
       "text": [
        " 212 RMP Fest 2008\n",
        "0"
       ]
      },
      {
       "output_type": "stream",
       "stream": "stdout",
       "text": [
        " Delta Burke 2009 q: 201 p: 14\n",
        "\t"
       ]
      },
      {
       "output_type": "stream",
       "stream": "stdout",
       "text": [
        "0 found 27287\n",
        "0"
       ]
      },
      {
       "output_type": "stream",
       "stream": "stdout",
       "text": [
        " Matt Cvijanovich Memorial Novice Tournament 2007 q: 297 p: 16\n",
        "\t"
       ]
      },
      {
       "output_type": "stream",
       "stream": "stdout",
       "text": [
        "0 found 27584\n",
        "0"
       ]
      },
      {
       "output_type": "stream",
       "stream": "stdout",
       "text": [
        " PACE Spring Qualifier 2007 q: 0 p: 10\n",
        "0"
       ]
      },
      {
       "output_type": "stream",
       "stream": "stdout",
       "text": [
        " Delta Burke 2005 q: 17 p: 2\n",
        "0"
       ]
      },
      {
       "output_type": "stream",
       "stream": "stdout",
       "text": [
        " Triacontakaipentagon 2013 q: 329 p: 11\n",
        "\t"
       ]
      },
      {
       "output_type": "stream",
       "stream": "stdout",
       "text": [
        "0 found 27913\n",
        "0"
       ]
      },
      {
       "output_type": "stream",
       "stream": "stdout",
       "text": [
        " From Here to Eternity (OSU) 2009 q: 180 p: 11\n",
        "\t"
       ]
      },
      {
       "output_type": "stream",
       "stream": "stdout",
       "text": [
        "9 found 27913\n",
        "0"
       ]
      },
      {
       "output_type": "stream",
       "stream": "stdout",
       "text": [
        " Chicago Open Lit 2007 q: 276 p: 14\n",
        "\t"
       ]
      },
      {
       "output_type": "stream",
       "stream": "stdout",
       "text": [
        "0 found 28189\n",
        "0"
       ]
      },
      {
       "output_type": "stream",
       "stream": "stdout",
       "text": [
        " Science Non-Strosity 2009 q: 157 p: 9\n",
        "\t"
       ]
      },
      {
       "output_type": "stream",
       "stream": "stdout",
       "text": [
        "0 found 28346\n",
        "0"
       ]
      },
      {
       "output_type": "stream",
       "stream": "stdout",
       "text": [
        " BDAT II 2012 q: 256 p: 14\n",
        "\t"
       ]
      },
      {
       "output_type": "stream",
       "stream": "stdout",
       "text": [
        "4 found 28346\n",
        "0"
       ]
      },
      {
       "output_type": "stream",
       "stream": "stdout",
       "text": [
        " Fall Kickoff Tournament (FKT) 2011 q: 174 p: 10\n",
        "\t"
       ]
      },
      {
       "output_type": "stream",
       "stream": "stdout",
       "text": [
        "0 found 28520\n",
        "skipped 259 Delta Burke 2010\n",
        "skipped"
       ]
      },
      {
       "output_type": "stream",
       "stream": "stdout",
       "text": [
        " 223 ACF Nationals 2013\n",
        "skipped 235 RMP Fest 2009\n",
        "skipped"
       ]
      },
      {
       "output_type": "stream",
       "stream": "stdout",
       "text": [
        " 42 ACF Nationals 2012\n",
        "skipped 358 ACF Winter 2009\n",
        "0"
       ]
      },
      {
       "output_type": "stream",
       "stream": "stdout",
       "text": [
        " Collegiate Novice IV 2013 q: 142 p: 10\n",
        "\t"
       ]
      },
      {
       "output_type": "stream",
       "stream": "stdout",
       "text": [
        "10 found 28520\n",
        "skipped 481 ACF Nationals 2011\n",
        "0"
       ]
      },
      {
       "output_type": "stream",
       "stream": "stdout",
       "text": [
        " The Experiment 2007 q: 193 p: 1\n",
        "\t"
       ]
      },
      {
       "output_type": "stream",
       "stream": "stdout",
       "text": [
        "0 found 28713\n",
        "0"
       ]
      },
      {
       "output_type": "stream",
       "stream": "stdout",
       "text": [
        " Bulldog High School Academic Tournament (BHSAT) 2008 q: 235 p: 17\n",
        "\t"
       ]
      },
      {
       "output_type": "stream",
       "stream": "stdout",
       "text": [
        "0 found 28948\n",
        "skipped 84 ACF Nationals 2014\n",
        "skipped"
       ]
      },
      {
       "output_type": "stream",
       "stream": "stdout",
       "text": [
        " 303 Harvard International 2010\n",
        "skipped"
       ]
      },
      {
       "output_type": "stream",
       "stream": "stdout",
       "text": [
        " 368 ACF Regionals 2005\n",
        "0"
       ]
      },
      {
       "output_type": "stream",
       "stream": "stdout",
       "text": [
        " Illinois Open 2003 q: 158 p: 14\n",
        "\t"
       ]
      },
      {
       "output_type": "stream",
       "stream": "stdout",
       "text": [
        "0 found 29106\n",
        "0"
       ]
      },
      {
       "output_type": "stream",
       "stream": "stdout",
       "text": [
        " New Trier Scobol Solo 2010 q: 299 p: 18\n",
        "\t"
       ]
      },
      {
       "output_type": "stream",
       "stream": "stdout",
       "text": [
        "12 found 29106\n",
        "skipped 331 VCU Open (Saturday) 2010\n",
        "0"
       ]
      },
      {
       "output_type": "stream",
       "stream": "stdout",
       "text": [
        " Illinois Open Literature Tournament 2006 q: 156 p: 12\n",
        "\t"
       ]
      },
      {
       "output_type": "stream",
       "stream": "stdout",
       "text": [
        "0 found 29262\n",
        "skipped"
       ]
      },
      {
       "output_type": "stream",
       "stream": "stdout",
       "text": [
        " 360 ACF Fall 2003\n",
        "skipped 254 THUNDER 2009\n",
        "0"
       ]
      },
      {
       "output_type": "stream",
       "stream": "stdout",
       "text": [
        " PACE NSC 2005 q: 366 p: 15\n",
        "\t"
       ]
      },
      {
       "output_type": "stream",
       "stream": "stdout",
       "text": [
        "0 found 29628\n",
        "0"
       ]
      },
      {
       "output_type": "stream",
       "stream": "stdout",
       "text": [
        " Fall Novice Tournament 2010 q: 250 p: 13\n",
        "\t"
       ]
      },
      {
       "output_type": "stream",
       "stream": "stdout",
       "text": [
        "10 found 29628\n",
        "0"
       ]
      },
      {
       "output_type": "stream",
       "stream": "stdout",
       "text": [
        " Minnesota Undergraduate Tournament (MUT) 2008 q: 246 p: 13\n",
        "\t"
       ]
      },
      {
       "output_type": "stream",
       "stream": "stdout",
       "text": [
        "0 found 29874\n",
        "skipped 438 ACF Regionals 2001\n",
        "0"
       ]
      },
      {
       "output_type": "stream",
       "stream": "stdout",
       "text": [
        " PACE NSC 2001 q: 316 p: 14\n",
        "\t"
       ]
      },
      {
       "output_type": "stream",
       "stream": "stdout",
       "text": [
        "0 found 30190\n",
        "skipped"
       ]
      },
      {
       "output_type": "stream",
       "stream": "stdout",
       "text": [
        " 297 ACF Fall 2012\n",
        "0"
       ]
      },
      {
       "output_type": "stream",
       "stream": "stdout",
       "text": [
        " Collaborative Middle School Tournament 2010 q: 180 p: 10\n",
        "\t"
       ]
      },
      {
       "output_type": "stream",
       "stream": "stdout",
       "text": [
        "7 found 30190\n",
        "0"
       ]
      },
      {
       "output_type": "stream",
       "stream": "stdout",
       "text": [
        " FIST 2009 q: 226 p: 13\n",
        "\t"
       ]
      },
      {
       "output_type": "stream",
       "stream": "stdout",
       "text": [
        "0 found 30416\n",
        "0"
       ]
      },
      {
       "output_type": "stream",
       "stream": "stdout",
       "text": [
        " 3M: Chicago Open History 2014 q: 140 p: 12\n",
        "\t"
       ]
      },
      {
       "output_type": "stream",
       "stream": "stdout",
       "text": [
        "0 found 30556\n",
        "0"
       ]
      },
      {
       "output_type": "stream",
       "stream": "stdout",
       "text": [
        " PACE NSC 2007 q: 0 p: 25\n",
        "0"
       ]
      },
      {
       "output_type": "stream",
       "stream": "stdout",
       "text": [
        " Fall Kickoff Tournament (FKT) 2012 q: 178 p: 12\n",
        "\t"
       ]
      },
      {
       "output_type": "stream",
       "stream": "stdout",
       "text": [
        "0 found 30734\n",
        "0"
       ]
      },
      {
       "output_type": "stream",
       "stream": "stdout",
       "text": [
        " PACE NSC 2002 q: 281 p: 14\n",
        "\t"
       ]
      },
      {
       "output_type": "stream",
       "stream": "stdout",
       "text": [
        "0 found 31015\n",
        "0"
       ]
      },
      {
       "output_type": "stream",
       "stream": "stdout",
       "text": [
        " WUHSAC VIII 2006 q: 103 p: 10\n",
        "\t"
       ]
      },
      {
       "output_type": "stream",
       "stream": "stdout",
       "text": [
        "0 found 31118\n",
        "skipped 576 PACE NSC 2014\n",
        "0"
       ]
      },
      {
       "output_type": "stream",
       "stream": "stdout",
       "text": [
        " Penn Bowl 2009 q: 349 p: 18\n",
        "\t"
       ]
      },
      {
       "output_type": "stream",
       "stream": "stdout",
       "text": [
        "0 found 31467\n",
        "0"
       ]
      },
      {
       "output_type": "stream",
       "stream": "stdout",
       "text": [
        " Early Autumn Collegiate Novice 2010 q: 203 p: 10\n",
        "\t"
       ]
      },
      {
       "output_type": "stream",
       "stream": "stdout",
       "text": [
        "11 found 31467\n",
        "skipped 233 Prison Bowl 2009\n",
        "skipped"
       ]
      },
      {
       "output_type": "stream",
       "stream": "stdout",
       "text": [
        " 391 ACF Nationals 2007\n",
        "0"
       ]
      },
      {
       "output_type": "stream",
       "stream": "stdout",
       "text": [
        " Harvard Fall Tournament VII 2012 q: 264 p: 15\n",
        "\t"
       ]
      },
      {
       "output_type": "stream",
       "stream": "stdout",
       "text": [
        "0 found 31731\n",
        "0"
       ]
      },
      {
       "output_type": "stream",
       "stream": "stdout",
       "text": [
        " New Trier Scobol Solo 2003 q: 0 p: 16\n",
        "0"
       ]
      },
      {
       "output_type": "stream",
       "stream": "stdout",
       "text": [
        " Zot Bowl 2008 q: 252 p: 14\n",
        "\t"
       ]
      },
      {
       "output_type": "stream",
       "stream": "stdout",
       "text": [
        "0 found 31983\n",
        "0"
       ]
      },
      {
       "output_type": "stream",
       "stream": "stdout",
       "text": [
        " Western Invitational Tournament 2013 q: 365 p: 18\n",
        "\t"
       ]
      },
      {
       "output_type": "stream",
       "stream": "stdout",
       "text": [
        "10 found 31983\n",
        "0"
       ]
      },
      {
       "output_type": "stream",
       "stream": "stdout",
       "text": [
        " PACE NSC 2003 q: 349 p: 15\n",
        "\t"
       ]
      },
      {
       "output_type": "stream",
       "stream": "stdout",
       "text": [
        "0 found 32332\n",
        "0"
       ]
      },
      {
       "output_type": "stream",
       "stream": "stdout",
       "text": [
        " Delta Burke 2012 q: 205 p: 11\n",
        "\t"
       ]
      },
      {
       "output_type": "stream",
       "stream": "stdout",
       "text": [
        "0 found 32537\n",
        "skipped 299 Terrapin 2013\n",
        "0"
       ]
      },
      {
       "output_type": "stream",
       "stream": "stdout",
       "text": [
        " Sun 'n' Fun 2010 q: 218 p: 13\n",
        "\t"
       ]
      },
      {
       "output_type": "stream",
       "stream": "stdout",
       "text": [
        "9 found 32537\n",
        "0"
       ]
      },
      {
       "output_type": "stream",
       "stream": "stdout",
       "text": [
        " Wild Kingdom 2010 q: 94 p: 6\n",
        "\t"
       ]
      },
      {
       "output_type": "stream",
       "stream": "stdout",
       "text": [
        "0 found 32631\n",
        "0"
       ]
      },
      {
       "output_type": "stream",
       "stream": "stdout",
       "text": [
        " St. Anselm's and Torrey Pines TPOT 2011 q: 295 p: 16\n",
        "\t"
       ]
      },
      {
       "output_type": "stream",
       "stream": "stdout",
       "text": [
        "10 found 32631\n",
        "skipped"
       ]
      },
      {
       "output_type": "stream",
       "stream": "stdout",
       "text": [
        " 498 PACE NSC 2009\n",
        "0"
       ]
      },
      {
       "output_type": "stream",
       "stream": "stdout",
       "text": [
        " Wheaton North Freshman/Sophomore Tournament 2010 q: 33 p: 1\n",
        "0"
       ]
      },
      {
       "output_type": "stream",
       "stream": "stdout",
       "text": [
        " Delta Burke 2011 q: 221 p: 13\n",
        "\t"
       ]
      },
      {
       "output_type": "stream",
       "stream": "stdout",
       "text": [
        "0 found 32852\n",
        "skipped 336 ACF Regionals 2007\n",
        "0"
       ]
      },
      {
       "output_type": "stream",
       "stream": "stdout",
       "text": [
        " Geography Monstrosity 5 2013 q: 0 p: 4\n",
        "0"
       ]
      },
      {
       "output_type": "stream",
       "stream": "stdout",
       "text": [
        " Crusader Cup 2006 q: 0 p: 9\n",
        "0"
       ]
      },
      {
       "output_type": "stream",
       "stream": "stdout",
       "text": [
        " Maryland Spring 2012 q: 189 p: 12\n",
        "\t"
       ]
      },
      {
       "output_type": "stream",
       "stream": "stdout",
       "text": [
        "0 found 33041\n",
        "0"
       ]
      },
      {
       "output_type": "stream",
       "stream": "stdout",
       "text": [
        " Minnesota Undergraduate Tournament (MUT) 2014 q: 231 p: 14\n",
        "\t"
       ]
      },
      {
       "output_type": "stream",
       "stream": "stdout",
       "text": [
        "10 found 33041\n",
        "0"
       ]
      },
      {
       "output_type": "stream",
       "stream": "stdout",
       "text": [
        " Illinois Open 2011 q: 251 p: 16\n",
        "\t"
       ]
      },
      {
       "output_type": "stream",
       "stream": "stdout",
       "text": [
        "0 found 33292\n",
        "skipped"
       ]
      },
      {
       "output_type": "stream",
       "stream": "stdout",
       "text": [
        " 293 VCU Open 2014\n",
        "0"
       ]
      },
      {
       "output_type": "stream",
       "stream": "stdout",
       "text": [
        " UIUC High School Solo 2008 q: 172 p: 10\n",
        "\t"
       ]
      },
      {
       "output_type": "stream",
       "stream": "stdout",
       "text": [
        "0 found 33464\n",
        "0"
       ]
      },
      {
       "output_type": "stream",
       "stream": "stdout",
       "text": [
        " Early Fall Tournament (EFT) 2010 q: 257 p: 14\n",
        "\t"
       ]
      },
      {
       "output_type": "stream",
       "stream": "stdout",
       "text": [
        "9 found 33464\n",
        "0"
       ]
      },
      {
       "output_type": "stream",
       "stream": "stdout",
       "text": [
        " Ladue Invitational Spring Tournament 2011 q: 233 p: 13\n",
        "\t"
       ]
      },
      {
       "output_type": "stream",
       "stream": "stdout",
       "text": [
        "0 found 33697\n",
        "0"
       ]
      },
      {
       "output_type": "stream",
       "stream": "stdout",
       "text": [
        " New Trier Scobol Solo 2008 q: 258 p: 1\n",
        "\t"
       ]
      },
      {
       "output_type": "stream",
       "stream": "stdout",
       "text": [
        "0 found 33955\n",
        "0"
       ]
      },
      {
       "output_type": "stream",
       "stream": "stdout",
       "text": [
        " Aztlan Cup 2004 q: 302 p: 16\n",
        "\t"
       ]
      },
      {
       "output_type": "stream",
       "stream": "stdout",
       "text": [
        "0 found 34257\n",
        "0"
       ]
      },
      {
       "output_type": "stream",
       "stream": "stdout",
       "text": [
        " Maryland Spring Classic 2006 q: 162 p: 14\n",
        "\t"
       ]
      },
      {
       "output_type": "stream",
       "stream": "stdout",
       "text": [
        "0 found 34419\n",
        "skipped 339 ACF Fall 2010\n",
        "0"
       ]
      },
      {
       "output_type": "stream",
       "stream": "stdout",
       "text": [
        " Chicago Open Lit 2010 q: 0 p: 2\n",
        "skipped 342 ACF Regionals 2009\n",
        "skipped"
       ]
      },
      {
       "output_type": "stream",
       "stream": "stdout",
       "text": [
        " 232 BATE 2009\n",
        "0"
       ]
      },
      {
       "output_type": "stream",
       "stream": "stdout",
       "text": [
        " Harvard Fall Tournament 2008 q: 345 p: 19\n",
        "\t"
       ]
      },
      {
       "output_type": "stream",
       "stream": "stdout",
       "text": [
        "9 found 34419\n",
        "0"
       ]
      },
      {
       "output_type": "stream",
       "stream": "stdout",
       "text": [
        " ACF Nationals 1998 q: 375 p: 18\n",
        "\t"
       ]
      },
      {
       "output_type": "stream",
       "stream": "stdout",
       "text": [
        "0 found 34794\n",
        "0"
       ]
      },
      {
       "output_type": "stream",
       "stream": "stdout",
       "text": [
        " Fernando Arrabal Tournament of the Absurd 2013 q: 158 p: 10\n",
        "\t"
       ]
      },
      {
       "output_type": "stream",
       "stream": "stdout",
       "text": [
        "0 found 34952\n",
        "0"
       ]
      },
      {
       "output_type": "stream",
       "stream": "stdout",
       "text": [
        " FEUERBACH 2008 q: 218 p: 11\n",
        "\t"
       ]
      },
      {
       "output_type": "stream",
       "stream": "stdout",
       "text": [
        "0 found 35170\n",
        "skipped"
       ]
      },
      {
       "output_type": "stream",
       "stream": "stdout",
       "text": [
        " 588 PACE NSC 2011\n",
        "0"
       ]
      },
      {
       "output_type": "stream",
       "stream": "stdout",
       "text": [
        " New Trier Scobol Solo 2013 q: 310 p: 19\n",
        "\t"
       ]
      },
      {
       "output_type": "stream",
       "stream": "stdout",
       "text": [
        "0 found 35480\n",
        "0"
       ]
      },
      {
       "output_type": "stream",
       "stream": "stdout",
       "text": [
        " VCU Open 2008 q: 259 p: 13\n",
        "\t"
       ]
      },
      {
       "output_type": "stream",
       "stream": "stdout",
       "text": [
        "0 found 35739\n",
        "0"
       ]
      },
      {
       "output_type": "stream",
       "stream": "stdout",
       "text": [
        " Harvard T-Party 2010 q: 283 p: 16\n",
        "\t"
       ]
      },
      {
       "output_type": "stream",
       "stream": "stdout",
       "text": [
        "12 found 35739\n",
        "0"
       ]
      },
      {
       "output_type": "stream",
       "stream": "stdout",
       "text": [
        " Minnesota Novice Set 2011 q: 214 p: 12\n",
        "\t"
       ]
      },
      {
       "output_type": "stream",
       "stream": "stdout",
       "text": [
        "0 found 35953\n",
        "0"
       ]
      },
      {
       "output_type": "stream",
       "stream": "stdout",
       "text": [
        " Minnesota Undergraduate Tournament (MUT) 2010 q: 299 p: 15\n",
        "\t"
       ]
      },
      {
       "output_type": "stream",
       "stream": "stdout",
       "text": [
        "9 found 35953\n",
        "0"
       ]
      },
      {
       "output_type": "stream",
       "stream": "stdout",
       "text": [
        " Chicago Open Lit 2009 q: 183 p: 10\n",
        "\t"
       ]
      },
      {
       "output_type": "stream",
       "stream": "stdout",
       "text": [
        "10 found 35953\n",
        "0"
       ]
      },
      {
       "output_type": "stream",
       "stream": "stdout",
       "text": [
        " William Gaddis Experiment 2008 q: 185 p: 10\n",
        "\t"
       ]
      },
      {
       "output_type": "stream",
       "stream": "stdout",
       "text": [
        "10 found 35953\n",
        "skipped"
       ]
      },
      {
       "output_type": "stream",
       "stream": "stdout",
       "text": [
        " 391 ACF Nationals 2005\n",
        "0"
       ]
      },
      {
       "output_type": "stream",
       "stream": "stdout",
       "text": [
        " MSU/UD Housewrite 2012 q: 275 p: 14\n",
        "\t"
       ]
      },
      {
       "output_type": "stream",
       "stream": "stdout",
       "text": [
        "0 found 36228\n",
        "skipped"
       ]
      },
      {
       "output_type": "stream",
       "stream": "stdout",
       "text": [
        " 339 Chicago Open 2011\n",
        "0"
       ]
      },
      {
       "output_type": "stream",
       "stream": "stdout",
       "text": [
        " Illinois Novice 2002 q: 264 p: 16\n",
        "\t"
       ]
      },
      {
       "output_type": "stream",
       "stream": "stdout",
       "text": [
        "0 found 36492\n",
        "0"
       ]
      },
      {
       "output_type": "stream",
       "stream": "stdout",
       "text": [
        " PACE NSC 1998 q: 121 p: 15\n",
        "\t"
       ]
      },
      {
       "output_type": "stream",
       "stream": "stdout",
       "text": [
        "0 found 36613\n",
        "0"
       ]
      },
      {
       "output_type": "stream",
       "stream": "stdout",
       "text": [
        " New Trier Scobol Solo 2011 q: 310 p: 20\n",
        "\t"
       ]
      },
      {
       "output_type": "stream",
       "stream": "stdout",
       "text": [
        "0 found 36923\n",
        "0"
       ]
      },
      {
       "output_type": "stream",
       "stream": "stdout",
       "text": [
        " Oxford Open 2014 q: 181 p: 12\n",
        "\t"
       ]
      },
      {
       "output_type": "stream",
       "stream": "stdout",
       "text": [
        "0 found 37104\n",
        "0"
       ]
      },
      {
       "output_type": "stream",
       "stream": "stdout",
       "text": [
        " Chicago John Stuart Mill 2006 q: 256 p: 14\n",
        "\t"
       ]
      },
      {
       "output_type": "stream",
       "stream": "stdout",
       "text": [
        "0 found 37360\n",
        "skipped 399 ACF Fall 2006\n",
        "0"
       ]
      },
      {
       "output_type": "stream",
       "stream": "stdout",
       "text": [
        " BDAT I 2011 q: 211 p: 12\n",
        "\t"
       ]
      },
      {
       "output_type": "stream",
       "stream": "stdout",
       "text": [
        "0 found 37571\n",
        "0"
       ]
      },
      {
       "output_type": "stream",
       "stream": "stdout",
       "text": [
        " BHSAT 2009 q: 194 p: 1\n",
        "\t"
       ]
      },
      {
       "output_type": "stream",
       "stream": "stdout",
       "text": [
        "0 found 37765\n",
        "0"
       ]
      },
      {
       "output_type": "stream",
       "stream": "stdout",
       "text": [
        " HAVOC 2008 q: 117 p: 8\n",
        "\t"
       ]
      },
      {
       "output_type": "stream",
       "stream": "stdout",
       "text": [
        "0 found 37882\n",
        "0"
       ]
      },
      {
       "output_type": "stream",
       "stream": "stdout",
       "text": [
        " PACE NSC 2004 q: 374 p: 34\n",
        "\t"
       ]
      },
      {
       "output_type": "stream",
       "stream": "stdout",
       "text": [
        "0 found 38256\n",
        "0"
       ]
      },
      {
       "output_type": "stream",
       "stream": "stdout",
       "text": [
        " Delta Burke 2006 q: 0 p: 10\n",
        "skipped"
       ]
      },
      {
       "output_type": "stream",
       "stream": "stdout",
       "text": [
        " 360 ACF Winter 2010\n",
        "0"
       ]
      },
      {
       "output_type": "stream",
       "stream": "stdout",
       "text": [
        " Cardinal Classic XVIII 2009 q: 296 p: 15\n",
        "\t"
       ]
      },
      {
       "output_type": "stream",
       "stream": "stdout",
       "text": [
        "0 found 38552\n",
        "0"
       ]
      },
      {
       "output_type": "stream",
       "stream": "stdout",
       "text": [
        " July Crisis (history doubles) 2008 q: 0 p: 11\n",
        "skipped 330 PACE NSC 2008\n",
        "0"
       ]
      },
      {
       "output_type": "stream",
       "stream": "stdout",
       "text": [
        " PACE NSC 2006 q: 371 p: 15\n",
        "\t"
       ]
      },
      {
       "output_type": "stream",
       "stream": "stdout",
       "text": [
        "0 found 38923\n",
        "skipped 342 Chicago Open 2010\n",
        "0"
       ]
      },
      {
       "output_type": "stream",
       "stream": "stdout",
       "text": [
        " Minnesota Open 2012 q: 272 p: 15\n",
        "\t"
       ]
      },
      {
       "output_type": "stream",
       "stream": "stdout",
       "text": [
        "0 found 39195\n",
        "0"
       ]
      },
      {
       "output_type": "stream",
       "stream": "stdout",
       "text": [
        " Terrapin Invitational Tournament 2008 q: 276 p: 14\n",
        "\t"
       ]
      },
      {
       "output_type": "stream",
       "stream": "stdout",
       "text": [
        "0 found 39471\n",
        "skipped 386 ACF Fall 2004\n",
        "0"
       ]
      },
      {
       "output_type": "stream",
       "stream": "stdout",
       "text": [
        " Berkeley WIT XII 2004 q: 285 p: 16\n",
        "\t"
       ]
      },
      {
       "output_type": "stream",
       "stream": "stdout",
       "text": [
        "0 found 39756\n",
        "0"
       ]
      },
      {
       "output_type": "stream",
       "stream": "stdout",
       "text": [
        " Collaborative Middle School Tournament #3 2012 q: 171 p: 10\n",
        "\t"
       ]
      },
      {
       "output_type": "stream",
       "stream": "stdout",
       "text": [
        "10 found 39756\n",
        "0"
       ]
      },
      {
       "output_type": "stream",
       "stream": "stdout",
       "text": [
        " Minnesota Undergraduate Tournament (MUT) 2011 q: 231 p: 14\n",
        "\t"
       ]
      },
      {
       "output_type": "stream",
       "stream": "stdout",
       "text": [
        "11 found 39756\n",
        "0"
       ]
      },
      {
       "output_type": "stream",
       "stream": "stdout",
       "text": [
        " Weekend of Quizbowl Saturday Event 2009 q: 305 p: 14\n",
        "\t"
       ]
      },
      {
       "output_type": "stream",
       "stream": "stdout",
       "text": [
        "1 found 40061\n",
        "skipped 266 THUNDER II 2010\n",
        "skipped"
       ]
      },
      {
       "output_type": "stream",
       "stream": "stdout",
       "text": [
        " 322 Chicago Open 2009\n",
        "0"
       ]
      },
      {
       "output_type": "stream",
       "stream": "stdout",
       "text": [
        " ANGST 2010 q: 240 p: 14\n",
        "\t"
       ]
      },
      {
       "output_type": "stream",
       "stream": "stdout",
       "text": [
        "0 found 40301\n",
        "skipped 315 Michigan Fall Tournament 2013\n",
        "0"
       ]
      },
      {
       "output_type": "stream",
       "stream": "stdout",
       "text": [
        " Michigan Auspicious Incident 2003 q: 248 p: 15\n",
        "\t"
       ]
      },
      {
       "output_type": "stream",
       "stream": "stdout",
       "text": [
        "0 found 40549\n",
        "0"
       ]
      },
      {
       "output_type": "stream",
       "stream": "stdout",
       "text": [
        " Chitin Classic 2008 q: 200 p: 12\n",
        "\t"
       ]
      },
      {
       "output_type": "stream",
       "stream": "stdout",
       "text": [
        "10 found 40549\n",
        "0"
       ]
      },
      {
       "output_type": "stream",
       "stream": "stdout",
       "text": [
        " DCCAT 2011 q: 19 p: 13\n",
        "0"
       ]
      },
      {
       "output_type": "stream",
       "stream": "stdout",
       "text": [
        " Law Bowl 2011 q: 65 p: 2\n",
        "\t"
       ]
      },
      {
       "output_type": "stream",
       "stream": "stdout",
       "text": [
        "0 found 40614\n",
        "0"
       ]
      },
      {
       "output_type": "stream",
       "stream": "stdout",
       "text": [
        " The Guns of August (history tournament) 2007 q: 0 p: 10\n",
        "0"
       ]
      },
      {
       "output_type": "stream",
       "stream": "stdout",
       "text": [
        " Early Fall Tournament (EFT) 2006 q: 273 p: 15\n",
        "\t"
       ]
      },
      {
       "output_type": "stream",
       "stream": "stdout",
       "text": [
        "0 found 40887\n",
        "0"
       ]
      },
      {
       "output_type": "stream",
       "stream": "stdout",
       "text": [
        " Prison Bowl 2012 q: 273 p: 15\n",
        "\t"
       ]
      },
      {
       "output_type": "stream",
       "stream": "stdout",
       "text": [
        "0 found 41160\n",
        "skipped 460 ACF Nationals 2000\n",
        "0"
       ]
      },
      {
       "output_type": "stream",
       "stream": "stdout",
       "text": [
        " Delta Burke 2003 q: 73 p: 8\n",
        "\t"
       ]
      },
      {
       "output_type": "stream",
       "stream": "stdout",
       "text": [
        "0 found 41233\n",
        "skipped 367 ACF Regionals 2003\n",
        "0"
       ]
      },
      {
       "output_type": "stream",
       "stream": "stdout",
       "text": [
        " Virginia Wahoo War 1998 q: 242 p: 17\n",
        "\t"
       ]
      },
      {
       "output_type": "stream",
       "stream": "stdout",
       "text": [
        "1 found 41475\n",
        "0"
       ]
      },
      {
       "output_type": "stream",
       "stream": "stdout",
       "text": [
        " Fall Kickoff Tournament (FKT) 2009 q: 145 p: 8\n",
        "\t"
       ]
      },
      {
       "output_type": "stream",
       "stream": "stdout",
       "text": [
        "9 found 41475\n",
        "0"
       ]
      },
      {
       "output_type": "stream",
       "stream": "stdout",
       "text": [
        " VETO 2013 q: 141 p: 11\n",
        "\t"
       ]
      },
      {
       "output_type": "stream",
       "stream": "stdout",
       "text": [
        "0 found 41616\n",
        "0"
       ]
      },
      {
       "output_type": "stream",
       "stream": "stdout",
       "text": [
        " Chicago Open History Doubles 2011 q: 218 p: 14\n",
        "\t"
       ]
      },
      {
       "output_type": "stream",
       "stream": "stdout",
       "text": [
        "10 found 41616\n",
        "0"
       ]
      },
      {
       "output_type": "stream",
       "stream": "stdout",
       "text": [
        " Brookwood Invitational Scholars Bowl 2013 q: 259 p: 14\n",
        "\t"
       ]
      },
      {
       "output_type": "stream",
       "stream": "stdout",
       "text": [
        "0 found 41875\n",
        "0"
       ]
      },
      {
       "output_type": "stream",
       "stream": "stdout",
       "text": [
        " Early Autumn Collegiate Novice 2011 q: 195 p: 10\n",
        "\t"
       ]
      },
      {
       "output_type": "stream",
       "stream": "stdout",
       "text": [
        "11 found 41875\n"
       ]
      }
     ],
     "prompt_number": 190
    },
    {
     "cell_type": "code",
     "collapsed": false,
     "input": [
      "text = \"4\\. At first glance the overwhelming white of the background seems to indicate a snowstorm of some kind. The foreground becomes progressively darker dominated by tans, browns, and shades of black. To the left one can make out a bridge which runs off of the canvas, as well as the indication of water at the base of the painting. But the centerpiece of the work is located on the right as a snakelike figure headed by a chimney seems to be moving out of the picture at the viewer, smoke trailing behind it. FTP, identify this 1844 painting subtitled \u201cThe Great Western Railway,\u201d a work by Joseph Turner.  ###  Answer: _Rain, Steam, and Speed_      5\\. The two photographs described on the wall of the police station early in the novel foreshadow the ending, tying the two men depicted together in shame and death. One man, an American bank robber, ends up serving as bait for the other in a manhunt that involves the revolutionary Red Shirts as well as the Mexican police. The reader finally realizes what the protagonist is guilty of when we meet his former mistress Marcia and their daughter, a situation contrasted with that of the cowardly Jose who had given up his role as a priest. Montez is finally captured because his American counterpart is Catholic and in need of confession. FTP, identify this 1940 novel focusing on a fugitive, alcoholic priest, written by Graham Greene. \"\n",
      "text = \"13.This ruler attempted to win over the Monophysites but failed because he contradicted the provisions of the Council of Chalcedon. This man's general Narses defeated the Ostrogoths at Taginae, while another of his generals defeated the Vandals in the reconquest of North Africa; that general Belisarius also helped defeat Hypatius, whom the Greens had backed in a civil unrest between chariot-racing factions, the Nika Riots. This ruler also ordered the construction of the Hagia Sophia. FTP, name this man who ordered a compilation of his empire\u2019s civil law, a husband of Theodora and emperor of the Byzantines. A: _Justinian_ I [or _Justinian_ the Great]      14.This thinker postulated Sophia as the final stage of development of an aspect of males that has earlier stages known as Eve, Helen, and Mary. This psychologist also believed that people tend to connect causally unrelated events, and he influenced the Myer-Briggs Type Indicator with his ideas on personality. This man who postulated the ideas of synchronicity, anima and animus, and introversion and extroversion also formed the idea of a reservoir in the unconscious of human experience. FTP, name this thinker who came up with the idea of the collective unconscious, the Swiss founder of analytic psychology. A: Carl Gustav _Jung_      15. A major \u201caccretion event\u201d likely created Hoag\u2019s Object, which is one of these objects, and the Antennae are a pair of interacting ones of these. Gerard de Vaucouleurs improved on a tuning-fork shaped morphological classification for these objects created by Edwin Hubble. Lenticular and elliptical are varieties of these entities that include the Andromeda one. FTP, name these types of celestial objects whose centers contain supermassive black holes, known for spiral ones such as the Milky Way. \"\n",
      "print len(re.findall(r\"\\d+\\\\?(\\.|\\))\", text))\n",
      "print len(re.findall(r\"(For (10|ten) points)|FTP\", text, re.I))"
     ],
     "language": "python",
     "metadata": {},
     "outputs": [
      {
       "output_type": "stream",
       "stream": "stdout",
       "text": [
        "3\n",
        "3\n"
       ]
      }
     ],
     "prompt_number": 132
    },
    {
     "cell_type": "code",
     "collapsed": false,
     "input": [
      "def is_good(text):\n",
      "    if len(re.findall(r\"\\d+\\\\?(\\.|\\))\", text)) > 1:\n",
      "        return False\n",
      "    if len(re.findall(r\"(For (10|ten) points)|FTP\", text, re.I)) > 1:\n",
      "        return False\n",
      "    if re.match(r\"[ABCDE]\\.\\s+\", text.strip()) != None or re.search(r\":  A\\. \", text) != None:\n",
      "        return False\n",
      "    if re.search(r\"\\[10\\]|\\[5\\]|FTPE|FTP each|\\(5\\)|points each|ANSWER|Answer:|Ans:|5 points per\", text) != None:\n",
      "        return False\n",
      "    if len(text) > 1900:\n",
      "        return False\n",
      "    return True"
     ],
     "language": "python",
     "metadata": {},
     "outputs": [],
     "prompt_number": 159
    },
    {
     "cell_type": "code",
     "collapsed": false,
     "input": [
      "print is_good(\"C. Translated into English as The Elf King\u2019s Oath, this work, based on a Wieland poem, features such characters as Reiza, the mermaids, and Puck. \")\n",
      "print is_good(\"6\\. Answer the following concerning an 18th century work of philosophy:  A. Published in 1695 and originally conceived as a response to a work by Louis Moreri, this compendium had entries which attacked Descartes, and also promoted toleration of its author\u2019s Calvinist faith. \")\n",
      "print is_good(\"D. [5] Like Sarah Orne Jewett, this Frenchman wrote a novel about a Country Doctor, name him for a final five points. \")"
     ],
     "language": "python",
     "metadata": {},
     "outputs": [
      {
       "output_type": "stream",
       "stream": "stdout",
       "text": [
        "False\n",
        "False\n",
        "False\n"
       ]
      }
     ],
     "prompt_number": 160
    },
    {
     "cell_type": "code",
     "collapsed": false,
     "input": [],
     "language": "python",
     "metadata": {},
     "outputs": []
    }
   ],
   "metadata": {}
  }
 ]
}