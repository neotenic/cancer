{
 "metadata": {
  "name": "",
  "signature": "sha256:60e22a17c83eadc0dde9b21f8422a22e1a0ed246767bf3473d37330434d9b474"
 },
 "nbformat": 3,
 "nbformat_minor": 0,
 "worksheets": [
  {
   "cells": [
    {
     "cell_type": "code",
     "collapsed": false,
     "input": [
      "import re\n",
      "# 14455 results:\n",
      "count = 0\n",
      "for line in open(\"../scrape/acfdb.txt\"):\n",
      "    if re.match(r'(1999|2010|200\\d) ACF', line):\n",
      "        count += 1\n",
      "        pass\n",
      "    elif re.match(r'Answer: ', line):\n",
      "#         print \"answer\", line\n",
      "        pass\n",
      "    elif line.strip() != \"\":\n",
      "        pass\n",
      "#         print \"body\", line\n",
      "#         count += 1\n",
      "#         print \"year\", line\n",
      "        \n",
      "print count"
     ],
     "language": "python",
     "metadata": {},
     "outputs": [
      {
       "output_type": "stream",
       "stream": "stdout",
       "text": [
        "14455\n"
       ]
      }
     ],
     "prompt_number": 1
    },
    {
     "cell_type": "code",
     "collapsed": false,
     "input": [
      "def read_question(f):\n",
      "    while True:\n",
      "        line = f.readline()\n",
      "        if line == '':\n",
      "            return None\n",
      "        head_match = re.match(r'(\\d{4}) (ACF \\w+) - Packet by (.*?) - #(\\d+)', line.strip())\n",
      "        if head_match:\n",
      "            break\n",
      "    category = f.readline()\n",
      "    tournament = line\n",
      "    body = ''\n",
      "    while True:\n",
      "        line = f.readline()\n",
      "        if line == '':\n",
      "            return None\n",
      "        ans_match = re.match(r'Answer: (.*)$', line.strip())\n",
      "        if ans_match:\n",
      "            break\n",
      "        body += line\n",
      "    answer = line\n",
      "    return {\n",
      "        \"question\": body.strip(),\n",
      "        \"tournament\": head_match.group(2),\n",
      "        \"answer\": ans_match.group(1),\n",
      "        \"round\": head_match.group(3),\n",
      "        \"num\": int(head_match.group(4)),\n",
      "        \"year\": int(head_match.group(1)),\n",
      "        \"category\": category.split(\"--\")[0].strip(),\n",
      "        \"subcategory\": category.split(\"--\")[1].strip()\n",
      "    }\n",
      "\n",
      "questions = []\n",
      "with open(\"../scrape/acfdb.txt\") as f:\n",
      "\n",
      "    while True:\n",
      "        question = read_question(f)\n",
      "        if question == None:\n",
      "            break\n",
      "        questions.append(question)\n",
      "    print len(questions)\n",
      "#     print line, category, body, line\n",
      "\n",
      "import json\n",
      "with open(\"../scrape/acfdb.json\", \"w\") as w:\n",
      "    for q in questions:\n",
      "        w.write(json.dumps(q) + \"\\n\")"
     ],
     "language": "python",
     "metadata": {},
     "outputs": [
      {
       "output_type": "stream",
       "stream": "stdout",
       "text": [
        "14455\n"
       ]
      }
     ],
     "prompt_number": 2
    },
    {
     "cell_type": "code",
     "collapsed": false,
     "input": [],
     "language": "python",
     "metadata": {},
     "outputs": [],
     "prompt_number": 23
    },
    {
     "cell_type": "code",
     "collapsed": false,
     "input": [],
     "language": "python",
     "metadata": {},
     "outputs": []
    }
   ],
   "metadata": {}
  }
 ]
}