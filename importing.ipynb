{
 "metadata": {
  "name": "",
  "signature": "sha256:60065ffaa29e9c71c99954506b6ad1f19a372c432f97255bb2d7ae7d4b625fd4"
 },
 "nbformat": 3,
 "nbformat_minor": 0,
 "worksheets": [
  {
   "cells": [
    {
     "cell_type": "code",
     "collapsed": false,
     "input": [
      "import pymongo\n",
      "from pymongo import MongoClient\n",
      "client = MongoClient('mongodb://localhost:27017/')\n",
      "db = client['composite']\n",
      "\n",
      "db.q.ensure_index([(\"question\" , pymongo.TEXT)])"
     ],
     "language": "python",
     "metadata": {},
     "outputs": [
      {
       "metadata": {},
       "output_type": "pyout",
       "prompt_number": 71,
       "text": [
        "u'question_text'"
       ]
      }
     ],
     "prompt_number": 71
    },
    {
     "cell_type": "code",
     "collapsed": false,
     "input": [
      "num = 0\n",
      "def pr(x):\n",
      "    global num\n",
      "    num += 1\n",
      "    if num < 100:\n",
      "        print x,\"\\n\""
     ],
     "language": "python",
     "metadata": {},
     "outputs": [],
     "prompt_number": 40
    },
    {
     "cell_type": "code",
     "collapsed": false,
     "input": [
      "db.q.find({'$text': {'$search': 'after this character relates a story'}})[0]"
     ],
     "language": "python",
     "metadata": {},
     "outputs": [
      {
       "metadata": {},
       "output_type": "pyout",
       "prompt_number": 37,
       "text": [
        "{u'_id': ObjectId('5475493dea23cca9054f48e3'),\n",
        " u'answer': u'The Old Gringo',\n",
        " u'category': u'Literature',\n",
        " u'num': 24,\n",
        " u'question': u'In one section of this novel, a commander has to hang his friend for stealing coins from a derailed train, while, in another, a woman described as having \"a moon face\" helps a man trapped in a cellar with two vicious dogs to escape. It begins with a different women reminiscing about her decision to return to Washington, D.C., and that woman had originally fled her previous existence after her beau, Mr. Delaney, was found guilty of fraud and crossed the border. The second chapter depicts the exhumation of a man who\\'d traveled with a copy of Don Quixote and a Colt .44 to join men like Colonel Frutos Garcia in their struggle. Much of the novel revolves around a love triangle between the teacher, Harriet Winslow, the General, Tomas Arroyo, and the title figure, who consistently reflects on the war stories he has written in the past. Inspired by its author\\'s interest in his real life subject\\'s disappearance during the Civil War, it was composed after Terra Nostra and The Death of Artemio Cruz. For 10 points, identify this novel whose potentially pejorative title refers to Ambrose Bierce, a work by Carlos Fuentes.',\n",
        " u'round': u'Finals Play-In',\n",
        " u'source': u'acfdb',\n",
        " u'subcategory': u'World',\n",
        " u'tournament': u'ACF Nationals',\n",
        " u'year': 2009}"
       ]
      }
     ],
     "prompt_number": 37
    },
    {
     "cell_type": "code",
     "collapsed": false,
     "input": [
      "import json\n",
      "for line in open(\"../scrape/acfdb.json\"):\n",
      "    if line == \"\":\n",
      "        continue\n",
      "    obj = json.loads(line)\n",
      "    obj['source'] = 'acfdb'\n",
      "    db.q2.insert(obj)"
     ],
     "language": "python",
     "metadata": {},
     "outputs": [],
     "prompt_number": 73
    },
    {
     "cell_type": "code",
     "collapsed": false,
     "input": [
      "import json\n",
      "c = 0\n",
      "for line in open(\"../scrape/quinterest-dump.json\"):\n",
      "    if line == \"\":\n",
      "        continue\n",
      "    e = json.loads(line)\n",
      "    e['source'] = 'quinterest'\n",
      "    if 'ACF' not in e['tournament']:\n",
      "        db.q.insert(e)\n",
      "    if 'ACF' in e['tournament'] and e['year'] > 2010:\n",
      "        db.q.insert(e)\n",
      "#     print db.q.find({'tournament': e['tournament']}).count()\n",
      "print c"
     ],
     "language": "python",
     "metadata": {},
     "outputs": [
      {
       "output_type": "stream",
       "stream": "stdout",
       "text": [
        "0\n"
       ]
      }
     ],
     "prompt_number": 36
    },
    {
     "cell_type": "code",
     "collapsed": false,
     "input": [
      "import json\n",
      "c = 0\n",
      "for line in open(\"../dumps/questions2nov14.json\"):\n",
      "    if line == \"\":\n",
      "        continue\n",
      "    e = json.loads(line)\n",
      "    if e['type'] != 'qb':\n",
      "        continue\n",
      "    db.proto.insert({\n",
      "        \"category\": e['category'],\n",
      "        \"num\": e['num'],\n",
      "        \"year\": e['year'],\n",
      "        \"question\": e['question'],\n",
      "        \"answer\": e['answer'], \n",
      "        \"difficulty\": e['difficulty'],\n",
      "        \"round\": e['round'],\n",
      "        \"tournament\": e['tournament']\n",
      "    })\n"
     ],
     "language": "python",
     "metadata": {},
     "outputs": [],
     "prompt_number": 42
    },
    {
     "cell_type": "code",
     "collapsed": false,
     "input": [
      "import json\n",
      "for line in open(\"../scrape/quinterest-dump.json\"):\n",
      "    if line == \"\":\n",
      "        continue\n",
      "    e = json.loads(line)\n",
      "    if db.proto.find({\"question\": e['question']}).count() == 0:\n",
      "        res = text_search(e['question'])\n",
      "        if res != None:\n",
      "            pass\n",
      "        else:\n",
      "            print e['tournament'], e['year'], e['round'], \"no replacement?\", e['question']"
     ],
     "language": "python",
     "metadata": {},
     "outputs": [
      {
       "output_type": "stream",
       "stream": "stdout",
       "text": [
        "ACF Regionals 2006 Florida State - Harvard A - Yale.doc no replacement? Eugene Ysaye and Paolo Gallico gave this work its Carnegie Hall premiere. Its second movement contains a theme and four variations and its third movement begins with a crashing A Major chord in the piano followed by an exuberant 6/8 tarantella in rondo form. Its first movement begins with a slow chordal introduction and ends with an anguished coda but is highlighted by a furious A Minor presto section. Originally dedicated to George Bridgetower, its current namesake never performed it and considered this 1802 work unplayable. FTP, name this most famous Beethoven violin sonata which shares its name with a short story by Leo Tolstoy and is dedicated to a French violinist with a German-sounding name.\n",
        "HFT"
       ]
      },
      {
       "output_type": "stream",
       "stream": "stdout",
       "text": [
        " 2008 HFT Championship 01 FINISHED.doc no replacement? Alvaro de Mendana gave this archipelago its name after discovering gold in the Mataniko River, surmising that it once supplied gold to the Levant. It includes the islands of Santa Isabel and Choiseul and lies north of Vanuatu and south of Nauru, the island on which John F. Kennedy found refuge when commanding PT-109 in this archipelago. Geographically, this island group also contains Bougainville, which is part of Papua New Guinea. Most famous as the site of the World War II battle for Guadalcanal, these are, FTP, what Melanesian islands with capital at Honiara?\n",
        "HFT"
       ]
      },
      {
       "output_type": "stream",
       "stream": "stdout",
       "text": [
        " 2008 HFT Round 10 ADV FINISHED.doc no replacement? The Spanish poet Luis de Gongora described a honeymoon of two of this work's characters in En un Pastoral Albergue. In a sequence from this work, one character builds a bridge across a river to the tomb of a character he drunkenly killed, while the Knights of Scotland kill Cloridan and leave Medoro for dead. Leo is a prince of Greece in this work, which ends as Bulgarians name the gallant Rogero as their ruler. Dardinello, the king of Zumala, is killed in Paris by the knight Rinaldo, and it begins with one character's flight toward Cathay. FTP, name this epic continuing the adventures of Angelica and the namesake knight written by Ludovico Ariosto.\n",
        "HSAPQ 4Q 1"
       ]
      },
      {
       "output_type": "stream",
       "stream": "stdout",
       "text": [
        " 2008 Round_04_HSAPQ4Q.pdf no replacement? 44 solar masses is given by the Chandrasekhar Limit. For 10 points, name this type of star found in the lower left of the Hertzsprung-Russell diagram that are small and emit light made up of all colors.\n",
        "HSAPQ 4Q 1"
       ]
      },
      {
       "output_type": "stream",
       "stream": "stdout",
       "text": [
        " 2008 Round_07_HSAPQ4Q.pdf no replacement? His protege is Amyas le Poulet, and La Cote Male Taile is one of his soap missionaries, who uses the slogan \"Patronized by the Elect.\" After the blacksmith Dowley complains about wages, this man explains the concept of real wages to a perplexed audience, and the common people call him The Boss. Early in the novel in which he appears, he is saved by a solar eclipse, and after getting hit in the head with a crowbar, he is transported to Camelot. For 10 points identify this character, the protagonist of a Mark Twain novel who is transported to King Arthur's court.\n",
        "HSAPQ 4Q 1"
       ]
      },
      {
       "output_type": "stream",
       "stream": "stdout",
       "text": [
        " 2008 Round_09_HSAPQ4Q.pdf no replacement? The solution of the Poincare conjecture via Ricci flow requires a general solution of a partial differential equation of this kind. An aberration known as a coma occurs in reflectors of this shape. The hyperbolic version of its three-dimensional analog is shaped like a saddle, and rolling it along a straight line produces a catenary curve. It is the locus of points equidistant from a focus and directrix, and is produced when a plane intersects a right circular cone. For 10 points, name this conic section with an eccentricity of 1, the shape of curves like y = x2.\n",
        "HSAPQ ACF 3"
       ]
      },
      {
       "output_type": "stream",
       "stream": "stdout",
       "text": [
        " 2008 Round_10_HSAPQACF3.pdf no replacement? Wienawski wrote the ten etudes of \"L'ecole moderne\" for this instrument, and one solo work for this instrument is the Scottish Fantasy by Max Bruch. Fritz Kreisler arranged a sonata for it from a work by Giuseppe Tartini known as \"The Devil's Trill.\" Joseph Joachim wrote the cadenza for a (*) D major concerto for this instrument by Johannes Brahms, and Rachmaninoff wrote a rhapsody on the twenty-fourth caprice in a series for this instrument written by Paganini. For 10 points, name this instrument that is higher pitched than a cello or a viola.\n",
        "HSAPQ ACF 3"
       ]
      },
      {
       "output_type": "stream",
       "stream": "stdout",
       "text": [
        " 2008 Round_14_HSAPQACF3.pdf no replacement? The Jambeli and Morro Channels flank this country's Puna Island, home to the aboriginal Tumbez Indians, and this country's Santa Elena peninsula contains primitive settlements from the Las Vegas culture. The Sierra Negra of Isabela Island and Indefatigable Island's (*) Charles Darwin Research Station are located within this country's province of the Galapagos Islands. For 10 points, name this South American country containing the port cities of Manta and Guayaquil and bordered by Columbia and Peru, with capital at Quito.\n",
        "HSAPQ NSC 2"
       ]
      },
      {
       "output_type": "stream",
       "stream": "stdout",
       "text": [
        " 2008 Round_01_HSAPQ_NSC2.pdf no replacement? The Eovtos rule states that this property decreases as temperature increases. The Young-Laplace equation relates pressure to the total vertical force produced by this phenomenon as a function of the radius of curvature. Emulsifying agents belong to a class of compounds that decrease this property, surfactants, and within a capillary, a meniscus forms as a result of this phenomenon. For 10 points, name this property of fluids, which arises from the attraction between molecules located on the liquid's surface with each other and nearby molecules.\n",
        "HSAPQ NSC 2"
       ]
      },
      {
       "output_type": "stream",
       "stream": "stdout",
       "text": [
        " 2008 Round_06_HSAPQ_NSC2.pdf no replacement? He wrote that \"....society can prevent those who are manifestly unfit from continuing their kind\" in his support for Virginia's forced sterilization policy in Buck v. Bell. He also wrote that, \"The Fourteenth Amendment does not enact Mr. Herbert Spencer's Social Statics,\" in his dissent in Lochner v. New York. For 10 points, name this Supreme Court justice who in his opinion in Schenck v. United States formulated the \"clear and present danger\" doctrine, the son of a poet of the same name.\n",
        "HSAPQ NSC 2"
       ]
      },
      {
       "output_type": "stream",
       "stream": "stdout",
       "text": [
        " 2008 Round_08_HSAPQ_NSC2.pdf no replacement? The Delbruck school argued that this policy was destined to fail, and it was first articulated in the Denkschrift. It sought to bypass the fortresses of Liege and Namur in the Meuse valley, and Alfred von Waldersee proposed an alternative to this strategy. It was modified and employed by the younger Helmuth von Moltke, and the \"race to the sea\" was triggered by its failure after the First Battle of the Marne. For 10 points, name this plan in which a large force would move through Belgium and deliver a decisive blow to France's flank at the onset of World War I.\n",
        "NTV"
       ]
      },
      {
       "output_type": "stream",
       "stream": "stdout",
       "text": [
        " 2008 r7tossups.pdf no replacement? (JG) Leo Szilard's 1927 paper pointed out that this is impossible because acquiring information re- quires expending energy. Another theory about this uses analysis of the choices it makes to refute its exis- tence, as Leon Brillouin proposed in 1950, concluding that the paradox is not actually paradoxical. Boltzmann's work led up to this idea, but it was Lord Kelvin who introduced the name for this creature. The argument for it relies on gas molecules of the same temperature having different speeds and moving randomly. Identify this thought experiment featuring a trapdoor between two chambers and a small intel- ligent being that would violate the Second Law of Thermodynamics.\n",
        "Prison Bowl"
       ]
      },
      {
       "output_type": "stream",
       "stream": "stdout",
       "text": [
        " 2008 Round 3.rtf no replacement? Ko-ko-ri-ko and Fe-an-nich-ton were characters in his first major success, Ba-ta-clan, and other works include a musical retelling of Robinson Crusoe and Mr. Cauliflower will be at Home on.... Many of his works had libretti written by the nephew of the composer of La Juive, Ludovic Halevy, including Bluebeard and two of his more famous works featuring the characters of the Viceroy of Peru and Gardefeu: (*) respectively, La Perichole and La vie parisienne. Agamemnon and Menelaus were in his La belle Helene, and he never completed his only grand opera, The Tales of Hoffman. FTP name this French composer and creator of the operetta, his best-known example of which is Orpheus in the Underworld.\n",
        "Prison Bowl"
       ]
      },
      {
       "output_type": "stream",
       "stream": "stdout",
       "text": [
        " 2008 Round 4.rtf no replacement? Its 42nd chapter, entitled OVanished into the Clouds,O is left blank, implying the title character's death. Earlier, the title character contemplates the transience of life after the death of his wife, who wished to become a nun after her husband married the Third Princess. Throughout his life, the main character engages in many affairs with different women, including his half-brother's (*) concubine and his stepmother, with whom he fathers the future emperor. Very few of the characters are given an explicit name, so modern readers keep track of them using nicknames based on, for example, the color of the character's clothing. FTP, name this Heian period work written by Japanese noblewoman Murasaki Shikibu, considered by some to be Othe first novel.O\n",
        "QuAC I"
       ]
      },
      {
       "output_type": "stream",
       "stream": "stdout",
       "text": [
        " 2008 Round2Final.doc no replacement? He notably defended Cukurova, and ?anl? Urfa, and early in his life attended the Picardy maneuvers in Paris. A rumor of vandalism of the house of his birth in Thessalonica led to a pogrom of Greeks in the 1950s. One of the Central Powers' commanders during the Battle of Gallipoli, he was thereafter moved to the Caucasus to fight the troops of the Tsar in 1917. He then commanded troops in Syria after the disaster for the Turks in Megiddo. Best known for acts like banning the fez after taking power in his nation, for 10 points identify this Turkish nationalist who led their war of independence, becoming the first Prime Minister of Turkey.\n",
        "QuAC I"
       ]
      },
      {
       "output_type": "stream",
       "stream": "stdout",
       "text": [
        " 2008 Round3Final.doc no replacement? Stuff about a 1956 poem for 10 points each. A Obscenity charges were brought against publisher Lawrence Ferlinghetti for publishing this long, free-verse poem by Allan Ginsberg, famously first read at the Six Gallery in 1956.\n",
        "QuAC I"
       ]
      },
      {
       "output_type": "stream",
       "stream": "stdout",
       "text": [
        " 2008 Round7Final.doc no replacement? Finally that time you spent playing video games instead of studying is paying off. Answer the following about Super Smash Brother Brawl for the stated number of points. [5/5] Two 3rd party characters were added. Name them for 5 points each.\n",
        "QuAC I"
       ]
      },
      {
       "output_type": "stream",
       "stream": "stdout",
       "text": [
        " 2008 Round9Final.doc no replacement? Its final movement features the \"Dies Irae\", while its fourth movement, which uses pizzicato to depict the composer's severed head rolling into a basket, is titled \"March to the Scaffold\". For 10 points each: [10. What is this five-movement work that featured an idee fixe and was inspired by opium and Harriet Smithson?\n",
        "RMP Fest"
       ]
      },
      {
       "output_type": "stream",
       "stream": "stdout",
       "text": [
        " 2008 Round 8.doc no replacement? Two answers required. Stefan Brauer has written an essay on their theoretical disagreements. A letter by one of them bizarrely refers to the other as \"Miss Giraffe\" while a letter from one to the other expresses bitterness over a period of no communication and rejects the other's request for the pseudonym \"Charles de Kloes.\" The work of one of them, \"Montaigne and the Theory of Skepticism\" and the notion of \"never merely\" was cited by the other in his most famous book authored alone. The fiftieth birthday of one these men inspired a work of the other subtitled \"Reflections on a Damaged Life,\" which includes essays on Proust and \"On Oracles.\" That is the aphoristic Minima Moralia. These two authors best-known collaboration came on a book arguing that man wasn't freed but rather made more dependent on capitalism thanks to the titular time period. FTP, identify these two authors of the Frankfurt School that collaborated on Dialectic of Enlightenment.\n",
        "ACF Nationals"
       ]
      },
      {
       "output_type": "stream",
       "stream": "stdout",
       "text": [
        " 2009 r01- Brown.doc no replacement? Hans von Bulow called this work a \"law unto itself,\" and the composer of this work claimed that he put the piece together from a couple of entr'actes. The recapitulation of the first movement begins with this work's only marking of 3 p's. In the opening of this work, the violins play only in descending thirds and ascending sixths, though the woodwinds imitate those figures as chords, while the piccolo and triangle only play in the allegro giocoso third movement. The aforementioned chains of falling thirds allude to the composer's song \"O Death,\" while the fourth movement of this work is a set of thirty-two variations on the cantata Nach dir, Herr, verlanget mich, originally thought to be composed by J.S. Bach. For 10 points, identify this work by the composer of the Academic Festival Overture which followed three others of the same genre.\n",
        "ACF Nationals"
       ]
      },
      {
       "output_type": "stream",
       "stream": "stdout",
       "text": [
        " 2009 r02- Brandeis.doc no replacement? In addition to Aicardi-Goutieres syndrome, a mutation in the TREX1 gene is associated with this disease. A drug-induced type of it can occur after long-term use of isoniazid or quinidine. A number of genes on chromosome 1 have been linked to it, including those for Fc? receptors and interleukin 10. High levels of antiphospholipid antibodies found in sufferers of this disease may accelerate atherosclerosis, and this disease may also cause Libman-Sacks endocarditis. Sufferers of this disease, prevalent in nine times as many women as men, demonstrate high levels of circulating apoptotic cells, and its most recognizable symptom is a photosensitive butterfly-shaped rash. For 10 points, name this \"great imitator,\" a chronic autoimmune disease in which that facial rash resembles the fur on the face of a wolf.\n",
        "ACF Nationals"
       ]
      },
      {
       "output_type": "stream",
       "stream": "stdout",
       "text": [
        " 2009 r14- Editors 1.doc no replacement? Jean Francois de Rozier, the first hot-air balloon pilot, died in a fall from a balloon named for this place. During the fourteenth and fifteenth centuries, this was the only town from which the Merchants Staples permitted English wool to be exported. A treaty named for this place gave control of Aquitaine to Edward III in return for Edward renouncing claims to the throne of France and promised the release from captivity of Jean II; that treaty is also known as the Treaty of Bretigny. The duke of Guise conquered it in 1558, thereby removing the last English foothold in France. In the wake of the Battle of Crecy, it was besieged by English troops until six of the town's leaders volunteered as hostages. For 10 points, name this French port which, in 1346, made heroes of those \"burghers.\"\n",
        "BATE"
       ]
      },
      {
       "output_type": "stream",
       "stream": "stdout",
       "text": [
        " 2009 Round 1.doc no replacement? This man had a vision of a \"monstrous flood\" devastating Europe shortly before the outbreak of World War One and he wrote about a \"God who knew no moderation in his emotion\" in his Answer to Job. He discussed a term that defines two supposedly unrelated events that are still linked in some way. Along with synchronicity, he developed ideas between those who enjoyed internal and external activities in his theory on introversion and extroversion. He used the term syzygy to describe the male and female aspects known as the animus and anima, as well as a concept that he defined as the \"reservoir of the experiences of our species\". FTP, identify this psychologist noted for his concepts of archetypes and collective unconsciousness.\n",
        "Chicago Open"
       ]
      },
      {
       "output_type": "stream",
       "stream": "stdout",
       "text": [
        " 2009 Packet 14 - Mont Pelerin Society.doc no replacement? He wrote a piece titled La mere et l'enfant, originally for piano four hands, and contains a section called \"Petite Romance.\" He based his Six melodies on poems by Victor Hugo, and his Trio in C minor shows some influence by Beethoven. Arthur Coquard finished this composer's four-act opera La Jacquerie, and this composer also wrote a ballet that contains a \"Pas des cymbals\" and some \"Danses marocaines.\" One of his operas was based on Schiller's Die Vershworung des Fiesco zu Genua, and another of his operas sees Magared betraying her father's city to Karnac and is based on a Breton legend. He worked with Adolphe Fischer on one of his better known pieces, and another may have anticipated the release of Bizet's Carmen a month later with a first movement habanera. For 10 points, identify this French composer of the ballet Namouna, the operas Fiesque and Le roi d'Ys, and the Cello Concerto in D minor, perhaps best known for a piece dedicated to Sarasate, Symphonie Espagnole.\n",
        "Chipola Lit + Fine Arts"
       ]
      },
      {
       "output_type": "stream",
       "stream": "stdout",
       "text": [
        " 2009 9.doc no replacement? He wrote the arias \"Firenze e come un albero fiorito\" and \"Si corre dal notario\" for one opera which also contains the more well known aria \"O mio babbino caro\". This composer of Gianni Schicchi wrote one work in which Fidelia sings \"Nel villagio d'Edgar\" and Frank sings \"Questo amor, vergogna mia\" and another opera which contains the arias \"Se come voi piccina\" and \"Torna ai felici di\". In addition to Edgar and Le Villi, this composer wrote one opera in which Mario Cavaradossi sings \"Qual occhio al mondo\" to the title character and one in which a Persian prince is executed and a Prince of Tartary revealed to be Calaf sings \"Nessun dorma\" to the title Chinese princess. For 10 points-name this composer of Tosca and Turandot who wrote about Marcello, Rodolpho and Mimi in his opera La boheme and about Pinkerton's marriage to Cio-Cio San in Madame Butterfly.\n",
        "DAFT"
       ]
      },
      {
       "output_type": "stream",
       "stream": "stdout",
       "text": [
        " 2009 DAFT 2009 Round 11 - Edited - Proofread.doc no replacement? Members of this relgion consider an early proponent, Anushtakin ad-Darazi, to be a heretic, and practice taqiya, an act of hiding their faith. Following the Rasa'il al-hikmah, practitioners of this religion adhere to seven fundamental pillars and are separated into either a juhhal group or a higher uqqal group. Followers of this religion faced persecution by the Fatimids, though they view the dynasty's sixth caliph as divine. Calling themselves Muwahhidun and represented by a star with colors for each of its five principles, for 10 points, name this religion that awaits the coming of al-Hakim and which is centered in Lebanon and Syria.\n",
        "FICHTE"
       ]
      },
      {
       "output_type": "stream",
       "stream": "stdout",
       "text": [
        " 2009 04_fichte09.doc no replacement? Wynalda scored the first goal in MLS history for the San Jose Clash in a 1-0 victory over this club, 4 time winners of the MLS Championship, this club was the first MLS team to win the CONCACAF Cup in 1998.\n"
       ]
      },
      {
       "ename": "KeyboardInterrupt",
       "evalue": "",
       "output_type": "pyerr",
       "traceback": [
        "\u001b[0;31m---------------------------------------------------------------------------\u001b[0m\n\u001b[0;31mKeyboardInterrupt\u001b[0m                         Traceback (most recent call last)",
        "\u001b[0;32m<ipython-input-72-598a508a8f52>\u001b[0m in \u001b[0;36m<module>\u001b[0;34m()\u001b[0m\n\u001b[1;32m      5\u001b[0m     \u001b[0me\u001b[0m \u001b[0;34m=\u001b[0m \u001b[0mjson\u001b[0m\u001b[0;34m.\u001b[0m\u001b[0mloads\u001b[0m\u001b[0;34m(\u001b[0m\u001b[0mline\u001b[0m\u001b[0;34m)\u001b[0m\u001b[0;34m\u001b[0m\u001b[0m\n\u001b[1;32m      6\u001b[0m     \u001b[0;32mif\u001b[0m \u001b[0mdb\u001b[0m\u001b[0;34m.\u001b[0m\u001b[0mproto\u001b[0m\u001b[0;34m.\u001b[0m\u001b[0mfind\u001b[0m\u001b[0;34m(\u001b[0m\u001b[0;34m{\u001b[0m\u001b[0;34m\"question\"\u001b[0m\u001b[0;34m:\u001b[0m \u001b[0me\u001b[0m\u001b[0;34m[\u001b[0m\u001b[0;34m'question'\u001b[0m\u001b[0;34m]\u001b[0m\u001b[0;34m}\u001b[0m\u001b[0;34m)\u001b[0m\u001b[0;34m.\u001b[0m\u001b[0mcount\u001b[0m\u001b[0;34m(\u001b[0m\u001b[0;34m)\u001b[0m \u001b[0;34m==\u001b[0m \u001b[0;36m0\u001b[0m\u001b[0;34m:\u001b[0m\u001b[0;34m\u001b[0m\u001b[0m\n\u001b[0;32m----> 7\u001b[0;31m         \u001b[0mres\u001b[0m \u001b[0;34m=\u001b[0m \u001b[0mtext_search\u001b[0m\u001b[0;34m(\u001b[0m\u001b[0me\u001b[0m\u001b[0;34m[\u001b[0m\u001b[0;34m'question'\u001b[0m\u001b[0;34m]\u001b[0m\u001b[0;34m)\u001b[0m\u001b[0;34m\u001b[0m\u001b[0m\n\u001b[0m\u001b[1;32m      8\u001b[0m         \u001b[0;32mif\u001b[0m \u001b[0mres\u001b[0m \u001b[0;34m!=\u001b[0m \u001b[0mNone\u001b[0m\u001b[0;34m:\u001b[0m\u001b[0;34m\u001b[0m\u001b[0m\n\u001b[1;32m      9\u001b[0m             \u001b[0;32mpass\u001b[0m\u001b[0;34m\u001b[0m\u001b[0m\n",
        "\u001b[0;32m<ipython-input-66-56a574df190d>\u001b[0m in \u001b[0;36mtext_search\u001b[0;34m(text)\u001b[0m\n\u001b[1;32m      4\u001b[0m \u001b[0;32mdef\u001b[0m \u001b[0mtext_search\u001b[0m\u001b[0;34m(\u001b[0m\u001b[0mtext\u001b[0m\u001b[0;34m)\u001b[0m\u001b[0;34m:\u001b[0m\u001b[0;34m\u001b[0m\u001b[0m\n\u001b[1;32m      5\u001b[0m     \u001b[0;32mfor\u001b[0m \u001b[0mi\u001b[0m \u001b[0;32min\u001b[0m \u001b[0mrange\u001b[0m\u001b[0;34m(\u001b[0m\u001b[0;36m3\u001b[0m\u001b[0;34m)\u001b[0m\u001b[0;34m:\u001b[0m\u001b[0;34m\u001b[0m\u001b[0m\n\u001b[0;32m----> 6\u001b[0;31m         \u001b[0mres\u001b[0m \u001b[0;34m=\u001b[0m \u001b[0mdb\u001b[0m\u001b[0;34m.\u001b[0m\u001b[0mproto\u001b[0m\u001b[0;34m.\u001b[0m\u001b[0mfind_one\u001b[0m\u001b[0;34m(\u001b[0m\u001b[0;34m{\u001b[0m\u001b[0;34m\"question\"\u001b[0m\u001b[0;34m:\u001b[0m \u001b[0;34m{\u001b[0m\u001b[0;34m\"$regex\"\u001b[0m\u001b[0;34m:\u001b[0m \u001b[0mregexify\u001b[0m\u001b[0;34m(\u001b[0m\u001b[0mtext\u001b[0m\u001b[0;34m)\u001b[0m\u001b[0;34m,\u001b[0m \u001b[0;34m\"$options\"\u001b[0m\u001b[0;34m:\u001b[0m \u001b[0;34m\"i\"\u001b[0m \u001b[0;34m}\u001b[0m\u001b[0;34m}\u001b[0m\u001b[0;34m)\u001b[0m\u001b[0;34m\u001b[0m\u001b[0m\n\u001b[0m\u001b[1;32m      7\u001b[0m         \u001b[0;32mif\u001b[0m \u001b[0mres\u001b[0m \u001b[0;34m!=\u001b[0m \u001b[0mNone\u001b[0m\u001b[0;34m:\u001b[0m\u001b[0;34m\u001b[0m\u001b[0m\n\u001b[1;32m      8\u001b[0m             \u001b[0;32mreturn\u001b[0m \u001b[0mres\u001b[0m\u001b[0;34m\u001b[0m\u001b[0m\n",
        "\u001b[0;32m/usr/local/lib/python2.7/site-packages/pymongo/collection.pyc\u001b[0m in \u001b[0;36mfind_one\u001b[0;34m(self, spec_or_id, *args, **kwargs)\u001b[0m\n\u001b[1;32m    722\u001b[0m                            *args, **kwargs).max_time_ms(max_time_ms)\n\u001b[1;32m    723\u001b[0m \u001b[0;34m\u001b[0m\u001b[0m\n\u001b[0;32m--> 724\u001b[0;31m         \u001b[0;32mfor\u001b[0m \u001b[0mresult\u001b[0m \u001b[0;32min\u001b[0m \u001b[0mcursor\u001b[0m\u001b[0;34m.\u001b[0m\u001b[0mlimit\u001b[0m\u001b[0;34m(\u001b[0m\u001b[0;34m-\u001b[0m\u001b[0;36m1\u001b[0m\u001b[0;34m)\u001b[0m\u001b[0;34m:\u001b[0m\u001b[0;34m\u001b[0m\u001b[0m\n\u001b[0m\u001b[1;32m    725\u001b[0m             \u001b[0;32mreturn\u001b[0m \u001b[0mresult\u001b[0m\u001b[0;34m\u001b[0m\u001b[0m\n\u001b[1;32m    726\u001b[0m         \u001b[0;32mreturn\u001b[0m \u001b[0mNone\u001b[0m\u001b[0;34m\u001b[0m\u001b[0m\n",
        "\u001b[0;32m/usr/local/lib/python2.7/site-packages/pymongo/cursor.pyc\u001b[0m in \u001b[0;36mnext\u001b[0;34m(self)\u001b[0m\n\u001b[1;32m   1056\u001b[0m             \u001b[0;32mraise\u001b[0m \u001b[0mStopIteration\u001b[0m\u001b[0;34m\u001b[0m\u001b[0m\n\u001b[1;32m   1057\u001b[0m         \u001b[0mdb\u001b[0m \u001b[0;34m=\u001b[0m \u001b[0mself\u001b[0m\u001b[0;34m.\u001b[0m\u001b[0m__collection\u001b[0m\u001b[0;34m.\u001b[0m\u001b[0mdatabase\u001b[0m\u001b[0;34m\u001b[0m\u001b[0m\n\u001b[0;32m-> 1058\u001b[0;31m         \u001b[0;32mif\u001b[0m \u001b[0mlen\u001b[0m\u001b[0;34m(\u001b[0m\u001b[0mself\u001b[0m\u001b[0;34m.\u001b[0m\u001b[0m__data\u001b[0m\u001b[0;34m)\u001b[0m \u001b[0;32mor\u001b[0m \u001b[0mself\u001b[0m\u001b[0;34m.\u001b[0m\u001b[0m_refresh\u001b[0m\u001b[0;34m(\u001b[0m\u001b[0;34m)\u001b[0m\u001b[0;34m:\u001b[0m\u001b[0;34m\u001b[0m\u001b[0m\n\u001b[0m\u001b[1;32m   1059\u001b[0m             \u001b[0;32mif\u001b[0m \u001b[0mself\u001b[0m\u001b[0;34m.\u001b[0m\u001b[0m__manipulate\u001b[0m\u001b[0;34m:\u001b[0m\u001b[0;34m\u001b[0m\u001b[0m\n\u001b[1;32m   1060\u001b[0m                 return db._fix_outgoing(self.__data.popleft(),\n",
        "\u001b[0;32m/usr/local/lib/python2.7/site-packages/pymongo/cursor.pyc\u001b[0m in \u001b[0;36m_refresh\u001b[0;34m(self)\u001b[0m\n\u001b[1;32m   1000\u001b[0m                               \u001b[0mself\u001b[0m\u001b[0;34m.\u001b[0m\u001b[0m__skip\u001b[0m\u001b[0;34m,\u001b[0m \u001b[0mntoreturn\u001b[0m\u001b[0;34m,\u001b[0m\u001b[0;34m\u001b[0m\u001b[0m\n\u001b[1;32m   1001\u001b[0m                               \u001b[0mself\u001b[0m\u001b[0;34m.\u001b[0m\u001b[0m__query_spec\u001b[0m\u001b[0;34m(\u001b[0m\u001b[0;34m)\u001b[0m\u001b[0;34m,\u001b[0m \u001b[0mself\u001b[0m\u001b[0;34m.\u001b[0m\u001b[0m__fields\u001b[0m\u001b[0;34m,\u001b[0m\u001b[0;34m\u001b[0m\u001b[0m\n\u001b[0;32m-> 1002\u001b[0;31m                               self.__uuid_subtype))\n\u001b[0m\u001b[1;32m   1003\u001b[0m             \u001b[0;32mif\u001b[0m \u001b[0;32mnot\u001b[0m \u001b[0mself\u001b[0m\u001b[0;34m.\u001b[0m\u001b[0m__id\u001b[0m\u001b[0;34m:\u001b[0m\u001b[0;34m\u001b[0m\u001b[0m\n\u001b[1;32m   1004\u001b[0m                 \u001b[0mself\u001b[0m\u001b[0;34m.\u001b[0m\u001b[0m__killed\u001b[0m \u001b[0;34m=\u001b[0m \u001b[0mTrue\u001b[0m\u001b[0;34m\u001b[0m\u001b[0m\n",
        "\u001b[0;32m/usr/local/lib/python2.7/site-packages/pymongo/cursor.pyc\u001b[0m in \u001b[0;36m__send_message\u001b[0;34m(self, message)\u001b[0m\n\u001b[1;32m    913\u001b[0m \u001b[0;34m\u001b[0m\u001b[0m\n\u001b[1;32m    914\u001b[0m             \u001b[0;32mtry\u001b[0m\u001b[0;34m:\u001b[0m\u001b[0;34m\u001b[0m\u001b[0m\n\u001b[0;32m--> 915\u001b[0;31m                 \u001b[0mres\u001b[0m \u001b[0;34m=\u001b[0m \u001b[0mclient\u001b[0m\u001b[0;34m.\u001b[0m\u001b[0m_send_message_with_response\u001b[0m\u001b[0;34m(\u001b[0m\u001b[0mmessage\u001b[0m\u001b[0;34m,\u001b[0m \u001b[0;34m**\u001b[0m\u001b[0mkwargs\u001b[0m\u001b[0;34m)\u001b[0m\u001b[0;34m\u001b[0m\u001b[0m\n\u001b[0m\u001b[1;32m    916\u001b[0m                 \u001b[0mself\u001b[0m\u001b[0;34m.\u001b[0m\u001b[0m__connection_id\u001b[0m\u001b[0;34m,\u001b[0m \u001b[0;34m(\u001b[0m\u001b[0mresponse\u001b[0m\u001b[0;34m,\u001b[0m \u001b[0msock\u001b[0m\u001b[0;34m,\u001b[0m \u001b[0mpool\u001b[0m\u001b[0;34m)\u001b[0m \u001b[0;34m=\u001b[0m \u001b[0mres\u001b[0m\u001b[0;34m\u001b[0m\u001b[0m\n\u001b[1;32m    917\u001b[0m                 \u001b[0;32mif\u001b[0m \u001b[0mself\u001b[0m\u001b[0;34m.\u001b[0m\u001b[0m__exhaust\u001b[0m\u001b[0;34m:\u001b[0m\u001b[0;34m\u001b[0m\u001b[0m\n",
        "\u001b[0;32m/usr/local/lib/python2.7/site-packages/pymongo/mongo_client.pyc\u001b[0m in \u001b[0;36m_send_message_with_response\u001b[0;34m(self, message, _must_use_master, **kwargs)\u001b[0m\n\u001b[1;32m   1196\u001b[0m                 \u001b[0msock_info\u001b[0m\u001b[0;34m.\u001b[0m\u001b[0msock\u001b[0m\u001b[0;34m.\u001b[0m\u001b[0msettimeout\u001b[0m\u001b[0;34m(\u001b[0m\u001b[0mkwargs\u001b[0m\u001b[0;34m[\u001b[0m\u001b[0;34m\"network_timeout\"\u001b[0m\u001b[0;34m]\u001b[0m\u001b[0;34m)\u001b[0m\u001b[0;34m\u001b[0m\u001b[0m\n\u001b[1;32m   1197\u001b[0m \u001b[0;34m\u001b[0m\u001b[0m\n\u001b[0;32m-> 1198\u001b[0;31m             \u001b[0mresponse\u001b[0m \u001b[0;34m=\u001b[0m \u001b[0mself\u001b[0m\u001b[0;34m.\u001b[0m\u001b[0m__send_and_receive\u001b[0m\u001b[0;34m(\u001b[0m\u001b[0mmessage\u001b[0m\u001b[0;34m,\u001b[0m \u001b[0msock_info\u001b[0m\u001b[0;34m)\u001b[0m\u001b[0;34m\u001b[0m\u001b[0m\n\u001b[0m\u001b[1;32m   1199\u001b[0m \u001b[0;34m\u001b[0m\u001b[0m\n\u001b[1;32m   1200\u001b[0m             \u001b[0;32mif\u001b[0m \u001b[0;32mnot\u001b[0m \u001b[0mexhaust\u001b[0m\u001b[0;34m:\u001b[0m\u001b[0;34m\u001b[0m\u001b[0m\n",
        "\u001b[0;32m/usr/local/lib/python2.7/site-packages/pymongo/mongo_client.pyc\u001b[0m in \u001b[0;36m__send_and_receive\u001b[0;34m(self, message, sock_info)\u001b[0m\n\u001b[1;32m   1173\u001b[0m         \u001b[0;32mtry\u001b[0m\u001b[0;34m:\u001b[0m\u001b[0;34m\u001b[0m\u001b[0m\n\u001b[1;32m   1174\u001b[0m             \u001b[0msock_info\u001b[0m\u001b[0;34m.\u001b[0m\u001b[0msock\u001b[0m\u001b[0;34m.\u001b[0m\u001b[0msendall\u001b[0m\u001b[0;34m(\u001b[0m\u001b[0mdata\u001b[0m\u001b[0;34m)\u001b[0m\u001b[0;34m\u001b[0m\u001b[0m\n\u001b[0;32m-> 1175\u001b[0;31m             \u001b[0;32mreturn\u001b[0m \u001b[0mself\u001b[0m\u001b[0;34m.\u001b[0m\u001b[0m__receive_message_on_socket\u001b[0m\u001b[0;34m(\u001b[0m\u001b[0;36m1\u001b[0m\u001b[0;34m,\u001b[0m \u001b[0mrequest_id\u001b[0m\u001b[0;34m,\u001b[0m \u001b[0msock_info\u001b[0m\u001b[0;34m)\u001b[0m\u001b[0;34m\u001b[0m\u001b[0m\n\u001b[0m\u001b[1;32m   1176\u001b[0m         \u001b[0;32mexcept\u001b[0m\u001b[0;34m:\u001b[0m\u001b[0;34m\u001b[0m\u001b[0m\n\u001b[1;32m   1177\u001b[0m             \u001b[0msock_info\u001b[0m\u001b[0;34m.\u001b[0m\u001b[0mclose\u001b[0m\u001b[0;34m(\u001b[0m\u001b[0;34m)\u001b[0m\u001b[0;34m\u001b[0m\u001b[0m\n",
        "\u001b[0;32m/usr/local/lib/python2.7/site-packages/pymongo/mongo_client.pyc\u001b[0m in \u001b[0;36m__receive_message_on_socket\u001b[0;34m(self, operation, rqst_id, sock_info)\u001b[0m\n\u001b[1;32m   1156\u001b[0m         \u001b[0mReturns\u001b[0m \u001b[0mthe\u001b[0m \u001b[0mresponse\u001b[0m \u001b[0mdata\u001b[0m \u001b[0;32mwith\u001b[0m \u001b[0mthe\u001b[0m \u001b[0mheader\u001b[0m \u001b[0mremoved\u001b[0m\u001b[0;34m.\u001b[0m\u001b[0;34m\u001b[0m\u001b[0m\n\u001b[1;32m   1157\u001b[0m         \"\"\"\n\u001b[0;32m-> 1158\u001b[0;31m         \u001b[0mheader\u001b[0m \u001b[0;34m=\u001b[0m \u001b[0mself\u001b[0m\u001b[0;34m.\u001b[0m\u001b[0m__receive_data_on_socket\u001b[0m\u001b[0;34m(\u001b[0m\u001b[0;36m16\u001b[0m\u001b[0;34m,\u001b[0m \u001b[0msock_info\u001b[0m\u001b[0;34m)\u001b[0m\u001b[0;34m\u001b[0m\u001b[0m\n\u001b[0m\u001b[1;32m   1159\u001b[0m         \u001b[0mlength\u001b[0m \u001b[0;34m=\u001b[0m \u001b[0mstruct\u001b[0m\u001b[0;34m.\u001b[0m\u001b[0munpack\u001b[0m\u001b[0;34m(\u001b[0m\u001b[0;34m\"<i\"\u001b[0m\u001b[0;34m,\u001b[0m \u001b[0mheader\u001b[0m\u001b[0;34m[\u001b[0m\u001b[0;34m:\u001b[0m\u001b[0;36m4\u001b[0m\u001b[0;34m]\u001b[0m\u001b[0;34m)\u001b[0m\u001b[0;34m[\u001b[0m\u001b[0;36m0\u001b[0m\u001b[0;34m]\u001b[0m\u001b[0;34m\u001b[0m\u001b[0m\n\u001b[1;32m   1160\u001b[0m         \u001b[0;31m# No rqst_id for exhaust cursor \"getMore\".\u001b[0m\u001b[0;34m\u001b[0m\u001b[0;34m\u001b[0m\u001b[0m\n",
        "\u001b[0;32m/usr/local/lib/python2.7/site-packages/pymongo/mongo_client.pyc\u001b[0m in \u001b[0;36m__receive_data_on_socket\u001b[0;34m(self, length, sock_info)\u001b[0m\n\u001b[1;32m   1144\u001b[0m         \u001b[0mmessage\u001b[0m \u001b[0;34m=\u001b[0m \u001b[0mEMPTY\u001b[0m\u001b[0;34m\u001b[0m\u001b[0m\n\u001b[1;32m   1145\u001b[0m         \u001b[0;32mwhile\u001b[0m \u001b[0mlength\u001b[0m\u001b[0;34m:\u001b[0m\u001b[0;34m\u001b[0m\u001b[0m\n\u001b[0;32m-> 1146\u001b[0;31m             \u001b[0mchunk\u001b[0m \u001b[0;34m=\u001b[0m \u001b[0msock_info\u001b[0m\u001b[0;34m.\u001b[0m\u001b[0msock\u001b[0m\u001b[0;34m.\u001b[0m\u001b[0mrecv\u001b[0m\u001b[0;34m(\u001b[0m\u001b[0mlength\u001b[0m\u001b[0;34m)\u001b[0m\u001b[0;34m\u001b[0m\u001b[0m\n\u001b[0m\u001b[1;32m   1147\u001b[0m             \u001b[0;32mif\u001b[0m \u001b[0mchunk\u001b[0m \u001b[0;34m==\u001b[0m \u001b[0mEMPTY\u001b[0m\u001b[0;34m:\u001b[0m\u001b[0;34m\u001b[0m\u001b[0m\n\u001b[1;32m   1148\u001b[0m                 \u001b[0;32mraise\u001b[0m \u001b[0mConnectionFailure\u001b[0m\u001b[0;34m(\u001b[0m\u001b[0;34m\"connection closed\"\u001b[0m\u001b[0;34m)\u001b[0m\u001b[0;34m\u001b[0m\u001b[0m\n",
        "\u001b[0;31mKeyboardInterrupt\u001b[0m: "
       ]
      }
     ],
     "prompt_number": 72
    },
    {
     "cell_type": "code",
     "collapsed": false,
     "input": [
      "from nltk.corpus import stopwords\n",
      "\n",
      "stahp = set(stopwords.words(\"english\") + u'author accept name another use used include including includes title wrote first also known begin prompt man woman person neg ftp points point one two three four five six seven eight nine ten 1 2 3 4 5 6 7 8 9 10 n t y mention anything basic achieve group main time tell'.split(\" \"))\n",
      "\n",
      "import random\n",
      "import re\n",
      "def regexify(text):\n",
      "    things = [w for w in re.split(r'[^A-Za-z]+', text.lower()) if w != '' and w not in stahp and len(w) > 4]\n",
      "    if len(things) < 5:\n",
      "        return \"something weird is weird\"\n",
      "    return \".+\".join([things[i] for i in sorted(random.sample(range(len(things)), 5))])\n",
      "    "
     ],
     "language": "python",
     "metadata": {},
     "outputs": [],
     "prompt_number": 56
    },
    {
     "cell_type": "code",
     "collapsed": false,
     "input": [
      "regexify(\"\"\"The composer of these works created some new material for a piano four-hands version of the second released before the last four, which were added from 1882 to 1885. The first with a subtitle is called \"Heroide-elegiaque\" while the one in E-flat major, the ninth, is known as \"The Carnival of Pest.\" The entire collection of nineteen has Rabbe number 106 and Berlioz set a scene in their namesake location to incorporate the fifteenth, in A minor, in The Damnation of Faust. FTP, name this set of solo piano pieces, Searle 244; the best-known works of Franz Liszt, named for his country of origin.\"\"\")"
     ],
     "language": "python",
     "metadata": {},
     "outputs": [
      {
       "metadata": {},
       "output_type": "pyout",
       "prompt_number": 60,
       "text": [
        "'composer.+hands.+major.+number.+fifteenth'"
       ]
      }
     ],
     "prompt_number": 60
    },
    {
     "cell_type": "code",
     "collapsed": false,
     "input": [
      "def regexify(text):\n",
      "    return re.sub(r\"\\W\", '.', text[5:30])\n",
      "\n",
      "def text_search(text):\n",
      "#     for i in range(3):\n",
      "    res = db.proto.find_one({\"question\": {\"$regex\": regexify(text), \"$options\": \"i\" }})\n",
      "    if res != None:\n",
      "        return res\n",
      "    return None"
     ],
     "language": "python",
     "metadata": {},
     "outputs": [],
     "prompt_number": 66
    },
    {
     "cell_type": "code",
     "collapsed": false,
     "input": [
      "import json\n",
      "c = 0\n",
      "for line in open(\"../dumps/questions2nov14.json\"):\n",
      "    if line == \"\":\n",
      "        continue\n",
      "    e = json.loads(line)\n",
      "    if e['type'] != 'qb':\n",
      "        continue\n",
      "    if 'ACF' not in e['tournament']:\n",
      "        db.q2.insert({\n",
      "            \"source\": \"protobowl\",\n",
      "            \"category\": e['category'],\n",
      "            \"num\": e['num'],\n",
      "            \"year\": e['year'],\n",
      "            \"question\": e['question'],\n",
      "            \"answer\": e['answer'],\n",
      "            \"difficulty\": e['difficulty'],\n",
      "            \"round\": e['round'],\n",
      "            \"tournament\": e['tournament']\n",
      "        })\n"
     ],
     "language": "python",
     "metadata": {},
     "outputs": [],
     "prompt_number": 74
    },
    {
     "cell_type": "code",
     "collapsed": false,
     "input": [
      "import json\n",
      "c = 0\n",
      "for line in open(\"../scrape/quinterest-dump.json\"):\n",
      "    if line == \"\":\n",
      "        continue\n",
      "    e = json.loads(line)\n",
      "    e['source'] = 'quinterest'\n",
      "    if 'ACF' not in e['tournament'] or ('ACF' in e['tournament'] and e['year'] > 2010):\n",
      "        if db.q2.find({\"tournament\": e['tournament'], \"year\": e['year'], \"source\": {\"$ne\": \"quinterest\"}}).count() == 0:\n",
      "            db.q2.insert(e)\n",
      "            c += 1\n",
      "print c"
     ],
     "language": "python",
     "metadata": {},
     "outputs": [
      {
       "output_type": "stream",
       "stream": "stdout",
       "text": [
        "10088\n"
       ]
      }
     ],
     "prompt_number": 76
    },
    {
     "cell_type": "code",
     "collapsed": false,
     "input": [
      "num = 0\n",
      "for q in db.qcan.find():\n",
      "    text = q['question']\n",
      "    ans = q['answer']\n",
      "    has_num = re.match(r\"(\\d+)\", text)\n",
      "    if has_num:\n",
      "        question_num = has_num.group(1)\n",
      "        question_text = re.sub(r\"^\\d+(\\\\?\\.|\\)|:)?\\s*\", \"\", text)\n",
      "        answer = ans.split(\"    \")[0]\n",
      "        answer = re.sub(r\"^(Answer:|A:)\\s+\", \"\", answer, flags=re.I)\n",
      "        answer = re.sub(r\"\\sBONI\", \"\", answer, flags=re.I).strip()\n",
      "        answer = re.sub(r\"<[A-Z]{2,}>\", \"\", answer).strip()\n",
      "        answer = re.sub(r\"<.*?>\", \"\", answer).strip()\n",
      "        answer = re.sub(r\"_(.*?)_\", r\"{\\1}\", answer)\n",
      "        answer = re.sub(r\"{\\s*}\", \"\", answer)\n",
      "        db.q2.insert({\n",
      "            \"tournament\": q['tournament'],\n",
      "            \"difficulty\": q['difficulty'],\n",
      "            \"year\": q['year'],\n",
      "            \"round\": q['round'],\n",
      "            \"num\": int(question_num),\n",
      "            \"answer\": answer,\n",
      "            \"question\": question_text\n",
      "        })"
     ],
     "language": "python",
     "metadata": {},
     "outputs": [],
     "prompt_number": 95
    },
    {
     "cell_type": "code",
     "collapsed": false,
     "input": [
      "cancer = client['cancer']\n",
      "\n",
      "\n",
      "for q in db.q2.find({\"difficulty\": None}):\n",
      "    if q['tournament'] in ['ACF Winter', 'ACF Fall', 'ACF Regionals', 'ACF Novice', 'Collegiate Novice', 'MUT', 'DRAGOON', 'Michigan Fall Tournament', 'Terrapin', 'WIT', 'ICCS', 'SUBMIT']:\n",
      "        db.q2.update({'_id': q['_id']}, {'$set': {'difficulty': 'College'}})\n",
      "    elif q['tournament'] in ['ACF Nationals', 'VCU Open', 'Cane Ridge Revival']:\n",
      "        db.q2.update({'_id': q['_id']}, {'$set': {'difficulty': 'Open'}})\n",
      "    elif 'MS' in q['tournament']:\n",
      "        db.q2.update({'_id': q['_id']}, {'$set': {'difficulty': 'MS'}})\n",
      "    elif q['tournament'] in ['LIST (Ladue Invitational Spring Tournament)']:\n",
      "        db.q2.update({'_id': q['_id']}, {'$set': {'difficulty': 'HS'}})\n",
      "    else:\n",
      "        pq = db.q2.find_one({\"difficulty\": {\"$ne\": None}, \"tournament\": q['tournament']})\n",
      "        if pq != None:\n",
      "            db.q2.update({'_id': q['_id']}, {'$set': {'difficulty': pq['difficulty']}})\n",
      "        else:\n",
      "            print q['tournament']"
     ],
     "language": "python",
     "metadata": {},
     "outputs": [],
     "prompt_number": 112
    },
    {
     "cell_type": "code",
     "collapsed": false,
     "input": [],
     "language": "python",
     "metadata": {},
     "outputs": []
    }
   ],
   "metadata": {}
  }
 ]
}